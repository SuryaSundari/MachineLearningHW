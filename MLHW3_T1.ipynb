{
 "cells": [
  {
   "cell_type": "code",
   "execution_count": 86,
   "id": "4d671f6d",
   "metadata": {},
   "outputs": [],
   "source": [
    "import numpy as np\n",
    "import pandas as pd\n",
    "from sklearn.cluster import KMeans\n",
    "import scipy \n",
    "import sklearn\n",
    "from collections import Counter\n",
    "from sklearn.metrics import multilabel_confusion_matrix\n",
    "from scipy import spatial\n",
    "from sklearn.model_selection import train_test_split"
   ]
  },
  {
   "cell_type": "code",
   "execution_count": 87,
   "id": "ee3d882a",
   "metadata": {},
   "outputs": [],
   "source": [
    "read_data = pd.read_csv('Datasets/kmeans_data/data.csv')\n",
    "read_labels = pd.read_csv('Datasets/kmeans_data/label.csv',names=['label'],header=None)"
   ]
  },
  {
   "cell_type": "code",
   "execution_count": 88,
   "id": "40390050",
   "metadata": {},
   "outputs": [
    {
     "name": "stdout",
     "output_type": "stream",
     "text": [
      "<class 'pandas.core.frame.DataFrame'>\n",
      "RangeIndex: 9999 entries, 0 to 9998\n",
      "Columns: 784 entries, 0 to 0.667\n",
      "dtypes: int64(784)\n",
      "memory usage: 59.8 MB\n"
     ]
    }
   ],
   "source": [
    "read_data.info()"
   ]
  },
  {
   "cell_type": "code",
   "execution_count": 89,
   "id": "1d93131d",
   "metadata": {},
   "outputs": [
    {
     "data": {
      "text/html": [
       "<div>\n",
       "<style scoped>\n",
       "    .dataframe tbody tr th:only-of-type {\n",
       "        vertical-align: middle;\n",
       "    }\n",
       "\n",
       "    .dataframe tbody tr th {\n",
       "        vertical-align: top;\n",
       "    }\n",
       "\n",
       "    .dataframe thead th {\n",
       "        text-align: right;\n",
       "    }\n",
       "</style>\n",
       "<table border=\"1\" class=\"dataframe\">\n",
       "  <thead>\n",
       "    <tr style=\"text-align: right;\">\n",
       "      <th></th>\n",
       "      <th>0</th>\n",
       "      <th>0.1</th>\n",
       "      <th>0.2</th>\n",
       "      <th>0.3</th>\n",
       "      <th>0.4</th>\n",
       "      <th>0.5</th>\n",
       "      <th>0.6</th>\n",
       "      <th>0.7</th>\n",
       "      <th>0.8</th>\n",
       "      <th>0.9</th>\n",
       "      <th>...</th>\n",
       "      <th>0.658</th>\n",
       "      <th>0.659</th>\n",
       "      <th>0.660</th>\n",
       "      <th>0.661</th>\n",
       "      <th>0.662</th>\n",
       "      <th>0.663</th>\n",
       "      <th>0.664</th>\n",
       "      <th>0.665</th>\n",
       "      <th>0.666</th>\n",
       "      <th>0.667</th>\n",
       "    </tr>\n",
       "  </thead>\n",
       "  <tbody>\n",
       "    <tr>\n",
       "      <th>0</th>\n",
       "      <td>0</td>\n",
       "      <td>0</td>\n",
       "      <td>0</td>\n",
       "      <td>0</td>\n",
       "      <td>0</td>\n",
       "      <td>0</td>\n",
       "      <td>0</td>\n",
       "      <td>0</td>\n",
       "      <td>0</td>\n",
       "      <td>0</td>\n",
       "      <td>...</td>\n",
       "      <td>0</td>\n",
       "      <td>0</td>\n",
       "      <td>0</td>\n",
       "      <td>0</td>\n",
       "      <td>0</td>\n",
       "      <td>0</td>\n",
       "      <td>0</td>\n",
       "      <td>0</td>\n",
       "      <td>0</td>\n",
       "      <td>0</td>\n",
       "    </tr>\n",
       "    <tr>\n",
       "      <th>1</th>\n",
       "      <td>0</td>\n",
       "      <td>0</td>\n",
       "      <td>0</td>\n",
       "      <td>0</td>\n",
       "      <td>0</td>\n",
       "      <td>0</td>\n",
       "      <td>0</td>\n",
       "      <td>0</td>\n",
       "      <td>0</td>\n",
       "      <td>0</td>\n",
       "      <td>...</td>\n",
       "      <td>0</td>\n",
       "      <td>0</td>\n",
       "      <td>0</td>\n",
       "      <td>0</td>\n",
       "      <td>0</td>\n",
       "      <td>0</td>\n",
       "      <td>0</td>\n",
       "      <td>0</td>\n",
       "      <td>0</td>\n",
       "      <td>0</td>\n",
       "    </tr>\n",
       "    <tr>\n",
       "      <th>2</th>\n",
       "      <td>0</td>\n",
       "      <td>0</td>\n",
       "      <td>0</td>\n",
       "      <td>0</td>\n",
       "      <td>0</td>\n",
       "      <td>0</td>\n",
       "      <td>0</td>\n",
       "      <td>0</td>\n",
       "      <td>0</td>\n",
       "      <td>0</td>\n",
       "      <td>...</td>\n",
       "      <td>0</td>\n",
       "      <td>0</td>\n",
       "      <td>0</td>\n",
       "      <td>0</td>\n",
       "      <td>0</td>\n",
       "      <td>0</td>\n",
       "      <td>0</td>\n",
       "      <td>0</td>\n",
       "      <td>0</td>\n",
       "      <td>0</td>\n",
       "    </tr>\n",
       "    <tr>\n",
       "      <th>3</th>\n",
       "      <td>0</td>\n",
       "      <td>0</td>\n",
       "      <td>0</td>\n",
       "      <td>0</td>\n",
       "      <td>0</td>\n",
       "      <td>0</td>\n",
       "      <td>0</td>\n",
       "      <td>0</td>\n",
       "      <td>0</td>\n",
       "      <td>0</td>\n",
       "      <td>...</td>\n",
       "      <td>0</td>\n",
       "      <td>0</td>\n",
       "      <td>0</td>\n",
       "      <td>0</td>\n",
       "      <td>0</td>\n",
       "      <td>0</td>\n",
       "      <td>0</td>\n",
       "      <td>0</td>\n",
       "      <td>0</td>\n",
       "      <td>0</td>\n",
       "    </tr>\n",
       "    <tr>\n",
       "      <th>4</th>\n",
       "      <td>0</td>\n",
       "      <td>0</td>\n",
       "      <td>0</td>\n",
       "      <td>0</td>\n",
       "      <td>0</td>\n",
       "      <td>0</td>\n",
       "      <td>0</td>\n",
       "      <td>0</td>\n",
       "      <td>0</td>\n",
       "      <td>0</td>\n",
       "      <td>...</td>\n",
       "      <td>0</td>\n",
       "      <td>0</td>\n",
       "      <td>0</td>\n",
       "      <td>0</td>\n",
       "      <td>0</td>\n",
       "      <td>0</td>\n",
       "      <td>0</td>\n",
       "      <td>0</td>\n",
       "      <td>0</td>\n",
       "      <td>0</td>\n",
       "    </tr>\n",
       "  </tbody>\n",
       "</table>\n",
       "<p>5 rows × 784 columns</p>\n",
       "</div>"
      ],
      "text/plain": [
       "   0  0.1  0.2  0.3  0.4  0.5  0.6  0.7  0.8  0.9  ...  0.658  0.659  0.660  \\\n",
       "0  0    0    0    0    0    0    0    0    0    0  ...      0      0      0   \n",
       "1  0    0    0    0    0    0    0    0    0    0  ...      0      0      0   \n",
       "2  0    0    0    0    0    0    0    0    0    0  ...      0      0      0   \n",
       "3  0    0    0    0    0    0    0    0    0    0  ...      0      0      0   \n",
       "4  0    0    0    0    0    0    0    0    0    0  ...      0      0      0   \n",
       "\n",
       "   0.661  0.662  0.663  0.664  0.665  0.666  0.667  \n",
       "0      0      0      0      0      0      0      0  \n",
       "1      0      0      0      0      0      0      0  \n",
       "2      0      0      0      0      0      0      0  \n",
       "3      0      0      0      0      0      0      0  \n",
       "4      0      0      0      0      0      0      0  \n",
       "\n",
       "[5 rows x 784 columns]"
      ]
     },
     "execution_count": 89,
     "metadata": {},
     "output_type": "execute_result"
    }
   ],
   "source": [
    "read_data.head()"
   ]
  },
  {
   "cell_type": "code",
   "execution_count": 90,
   "id": "34b58120",
   "metadata": {},
   "outputs": [],
   "source": [
    "train_data, test_data = train_test_split( read_data, test_size=0.08, random_state=42)\n",
    "train_labels, test_labels = train_test_split( read_labels, test_size=0.08, random_state=42)"
   ]
  },
  {
   "cell_type": "code",
   "execution_count": 91,
   "id": "dae969fe",
   "metadata": {},
   "outputs": [],
   "source": [
    "class Kmeans_algo:\n",
    "    \n",
    "    def sseCalculation(self, centr_value_dict, centr_dict,read_data):\n",
    "        sse_data = 0\n",
    "        for i in centr_dict:\n",
    "            sse_cluster = 0\n",
    "            # np.sum()\n",
    "            for j in centr_dict[i]:\n",
    "                d = list(read_data.iloc[int(j)])\n",
    "                for a,b in zip(centr_value_dict[i],d):\n",
    "                    sse_cluster += (a-b)**2\n",
    "            sse_data+=sse_cluster\n",
    "        return sse_data    \n",
    "    \n",
    "    def initializingCent(self,read_data,K):\n",
    "        m = read_data.shape[0]\n",
    "        centr_value_dict={}\n",
    "        for i in range(K):\n",
    "            r = np.random.randint(0, m-1)\n",
    "            centr_value_dict[i] = read_data.iloc[r]\n",
    "        return centr_value_dict\n",
    "    \n",
    "    def jaccardSimilarity(self,centr, d):\n",
    "        intersection = len(list(set(centr).intersection(d)))\n",
    "        union = (len(set(centr)) + len(set(d))) - intersection\n",
    "        return float(intersection) / union\n",
    "\n",
    "    def trainKmeans(self,read_data,K,max_iter=20,mode=1,tol=10):\n",
    "        centr_value_dict = self.initializingCent(read_data,K)\n",
    "        new_centr_value_dict = {}\n",
    "        count = 0\n",
    "        centr_dict = {}\n",
    "        convergence = False\n",
    "        while((count<max_iter) and not convergence):\n",
    "            \n",
    "            for i in list(centr_value_dict.keys()):\n",
    "                centr_dict[i]=[]\n",
    "            for i in range(read_data.shape[0]):\n",
    "                x = read_data.iloc[i]\n",
    "                if mode==1 :\n",
    "                    distance_measure = [np.linalg.norm(x-centr_value_dict[j])  for j in centr_value_dict]\n",
    "                    idx = np.argmin(distance_measure)\n",
    "                    centr_dict[idx].append(i)\n",
    "                elif mode==2 :\n",
    "                    distance_measure = [self.jaccardSimilarity(list(x),centr_value_dict[j]) for j in centr_value_dict]\n",
    "                    idx = np.argmax(distance_measure)\n",
    "                    centr_dict[idx].append(i)\n",
    "                elif mode==3 :\n",
    "                    distance_measure = [1-scipy.spatial.distance.cosine(x,list(centr_value_dict[j]))  for j in centr_value_dict]\n",
    "                    idx = np.argmax(distance_measure)\n",
    "                    centr_dict[idx].append(i)\n",
    "                \n",
    "                prev_centr=dict(centr_value_dict)\n",
    "                \n",
    "            \n",
    "            for i in centr_dict:\n",
    "                if len(centr_dict[i]):\n",
    "                    dps_centr = centr_dict[i]\n",
    "                    centr_value_dict[i] = np.average(read_data.iloc[dps_centr],axis=0)\n",
    "            \n",
    "            \n",
    "            current_tol=-1\n",
    "            for i in centr_value_dict:\n",
    "                prev_centr_point = prev_centr[i]\n",
    "                new_centr_point = centr_value_dict[i]\n",
    "                change = np.sum(np.absolute(new_centr_point-prev_centr_point))\n",
    "                current_tol = max(change, current_tol)\n",
    "                \n",
    "            print(\"Tolerance for the Iteration \",count,\": \",current_tol)\n",
    "            \n",
    "            count+=1\n",
    "            if (current_tol<10):\n",
    "                convergence = True\n",
    "                break\n",
    "           # print(\"KMeans Iteration\",count)\n",
    "        return centr_value_dict,centr_dict"
   ]
  },
  {
   "cell_type": "code",
   "execution_count": 92,
   "id": "6134cb46",
   "metadata": {},
   "outputs": [],
   "source": [
    "def predict_cluster_labels(C, S, labels):\n",
    "    cluster_labels = np.zeros(10,dtype=int)\n",
    "    for c in C:\n",
    "        labels_of_points = []\n",
    "        for point in S[c]:\n",
    "            labels_of_points.extend(labels.iloc[point])\n",
    "        counter = Counter(labels_of_points)\n",
    "        try:\n",
    "            cluster_labels[c] = max(counter, key=counter.get)\n",
    "        except:\n",
    "            cluster_labels[c] = np.random.randint(0,9)\n",
    "    return cluster_labels"
   ]
  },
  {
   "cell_type": "code",
   "execution_count": 93,
   "id": "ddf54723",
   "metadata": {},
   "outputs": [],
   "source": [
    "def accuracy(centroids, centroid_Labels, test_data, true_labels, mode=1):\n",
    "    y_true = list(true_labels['label']);\n",
    "    y_pred = []\n",
    "    for index in range(test_data.shape[0]):\n",
    "        featureset = test_data.iloc[index]\n",
    "        if mode==1:\n",
    "            distances = [np.linalg.norm(featureset - centroids[centroid]) for centroid in centroids]\n",
    "            classification = distances.index(min(distances))\n",
    "            y_pred.append(centroid_Labels[classification])\n",
    "        elif mode==2:\n",
    "            similarity = [jaccardSimilarity(featureset, centroids[centroid]) for centroid in centroids]\n",
    "            classification = similarity.index(max(similarity))\n",
    "            y_pred.append(centroid_Labels[classification]) \n",
    "        elif mode==3:\n",
    "            similarity = [1 - spatial.distance.cosine(featureset, centroids[centroid]) for centroid in centroids]\n",
    "            classification = similarity.index(max(similarity))\n",
    "            y_pred.append(centroid_Labels[classification])\n",
    "    denominator = test_data.shape[0]\n",
    "    correctly_classified = 0\n",
    "    for i in range(0,len(y_pred)):\n",
    "        if y_true[i] == y_pred[i]:\n",
    "            correctly_classified += 1\n",
    "    accuracy = correctly_classified/denominator\n",
    "    return accuracy\n"
   ]
  },
  {
   "cell_type": "code",
   "execution_count": 94,
   "id": "b91c510e",
   "metadata": {},
   "outputs": [
    {
     "name": "stdout",
     "output_type": "stream",
     "text": [
      "Tolerance for the Iteration  0 :  23094.684331797234\n",
      "Tolerance for the Iteration  1 :  5240.536679083683\n",
      "Tolerance for the Iteration  2 :  3191.135757386712\n",
      "Tolerance for the Iteration  3 :  3514.3872549019607\n",
      "Tolerance for the Iteration  4 :  2311.744821788397\n",
      "Tolerance for the Iteration  5 :  1622.8699259043265\n",
      "Tolerance for the Iteration  6 :  1043.5406714538049\n",
      "Tolerance for the Iteration  7 :  983.7870681377054\n",
      "Tolerance for the Iteration  8 :  1268.5248756883032\n",
      "Tolerance for the Iteration  9 :  1367.826234963518\n",
      "Tolerance for the Iteration  10 :  1847.5913599842677\n",
      "Tolerance for the Iteration  11 :  1675.2419726510184\n",
      "Tolerance for the Iteration  12 :  1401.1749239663732\n",
      "Tolerance for the Iteration  13 :  875.1779782717282\n",
      "Tolerance for the Iteration  14 :  762.8421123213292\n",
      "Tolerance for the Iteration  15 :  880.6614264666276\n",
      "Tolerance for the Iteration  16 :  1134.8541251532647\n",
      "Tolerance for the Iteration  17 :  1516.356484497449\n",
      "Tolerance for the Iteration  18 :  1357.7244175994178\n",
      "Tolerance for the Iteration  19 :  1312.640673207454\n",
      "Tolerance for the Iteration  20 :  1272.2947964682207\n",
      "Tolerance for the Iteration  21 :  1174.1530224173525\n",
      "Tolerance for the Iteration  22 :  1107.2258962745846\n",
      "Tolerance for the Iteration  23 :  1115.6796048368774\n",
      "Tolerance for the Iteration  24 :  930.6531290942048\n",
      "Tolerance for the Iteration  25 :  517.6695613005174\n",
      "Tolerance for the Iteration  26 :  347.9667759269799\n",
      "Tolerance for the Iteration  27 :  401.003794948532\n",
      "Tolerance for the Iteration  28 :  405.9535599696591\n",
      "Tolerance for the Iteration  29 :  348.18599807410135\n",
      "Tolerance for the Iteration  30 :  322.4048530663433\n",
      "Tolerance for the Iteration  31 :  246.76151581724065\n",
      "Tolerance for the Iteration  32 :  205.12563225506048\n",
      "Tolerance for the Iteration  33 :  245.61573185988317\n",
      "Tolerance for the Iteration  34 :  378.8191129694236\n",
      "Tolerance for the Iteration  35 :  389.53216768055506\n",
      "Tolerance for the Iteration  36 :  234.3898689419272\n",
      "Tolerance for the Iteration  37 :  226.4129267091451\n",
      "Tolerance for the Iteration  38 :  176.8899092982091\n",
      "Tolerance for the Iteration  39 :  180.10264994932425\n",
      "Tolerance for the Iteration  40 :  212.70707070707078\n",
      "Tolerance for the Iteration  41 :  146.86905298453848\n",
      "Tolerance for the Iteration  42 :  124.70609355648718\n",
      "Tolerance for the Iteration  43 :  88.37438945632604\n",
      "Tolerance for the Iteration  44 :  91.70516868768033\n",
      "Tolerance for the Iteration  45 :  82.79041248606454\n",
      "Tolerance for the Iteration  46 :  64.45150129649812\n",
      "Tolerance for the Iteration  47 :  61.70601368328642\n",
      "Tolerance for the Iteration  48 :  61.61401557285874\n",
      "Tolerance for the Iteration  49 :  27.018261030774763\n",
      "Tolerance for the Iteration  50 :  0.0\n"
     ]
    }
   ],
   "source": [
    "kmeans_model = Kmeans_algo()\n",
    "centroids_euclidian,clusters_euclidian = kmeans_model.trainKmeans(read_data,10, max_iter=100,mode=1)"
   ]
  },
  {
   "cell_type": "code",
   "execution_count": 95,
   "id": "59712aae",
   "metadata": {},
   "outputs": [
    {
     "name": "stdout",
     "output_type": "stream",
     "text": [
      "SSE value for Euclidean =  25322174539.645092\n"
     ]
    }
   ],
   "source": [
    "SSE_Euclidean = kmeans_model.sseCalculation(centroids_euclidian,clusters_euclidian,read_data)\n",
    "print(\"SSE value for Euclidean = \",SSE_Euclidean)"
   ]
  },
  {
   "cell_type": "code",
   "execution_count": 96,
   "id": "5072e728",
   "metadata": {},
   "outputs": [
    {
     "data": {
      "text/plain": [
       "array([6, 5, 7, 9, 3, 2, 0, 1, 4, 0])"
      ]
     },
     "execution_count": 96,
     "metadata": {},
     "output_type": "execute_result"
    }
   ],
   "source": [
    "cluster_labels_euclidian = predict_cluster_labels(centroids_euclidian,clusters_euclidian,read_labels)\n",
    "cluster_labels_euclidian"
   ]
  },
  {
   "cell_type": "code",
   "execution_count": 97,
   "id": "fba57b3d",
   "metadata": {},
   "outputs": [
    {
     "data": {
      "text/plain": [
       "0.0875"
      ]
     },
     "execution_count": 97,
     "metadata": {},
     "output_type": "execute_result"
    }
   ],
   "source": [
    "Euclidean_accuracy = accuracy(centroids_euclidian, cluster_labels_euclidian,test_data,test_labels)\n",
    "Euclidean_accuracy"
   ]
  },
  {
   "cell_type": "code",
   "execution_count": 98,
   "id": "e92df47d",
   "metadata": {},
   "outputs": [
    {
     "name": "stdout",
     "output_type": "stream",
     "text": [
      "Tolerance for the Iteration  0 :  30936.380952380954\n",
      "Tolerance for the Iteration  1 :  4806.985515300121\n",
      "Tolerance for the Iteration  2 :  2212.8959369913973\n",
      "Tolerance for the Iteration  3 :  1933.299470763403\n",
      "Tolerance for the Iteration  4 :  1544.3152738895935\n",
      "Tolerance for the Iteration  5 :  1353.1361881565113\n",
      "Tolerance for the Iteration  6 :  988.0877264819841\n",
      "Tolerance for the Iteration  7 :  1988.7197791207693\n",
      "Tolerance for the Iteration  8 :  1195.3951103612387\n",
      "Tolerance for the Iteration  9 :  903.497547001396\n",
      "Tolerance for the Iteration  10 :  1171.4783921330793\n",
      "Tolerance for the Iteration  11 :  1095.1364031599664\n",
      "Tolerance for the Iteration  12 :  368.80328871122407\n",
      "Tolerance for the Iteration  13 :  0.0\n"
     ]
    }
   ],
   "source": [
    "centroids_jaccard,clusters_jaccard = kmeans_model.trainKmeans(read_data,10, max_iter=100,mode=2)\n",
    "SSE_jaccard = kmeans_model.sseCalculation(centroids_jaccard,clusters_jaccard,read_data)"
   ]
  },
  {
   "cell_type": "code",
   "execution_count": 99,
   "id": "6c81e62f",
   "metadata": {},
   "outputs": [
    {
     "name": "stdout",
     "output_type": "stream",
     "text": [
      "SSE value for Jaccard  =  34361687572.938736\n"
     ]
    }
   ],
   "source": [
    "print(\"SSE value for Jaccard  = \",SSE_jaccard)"
   ]
  },
  {
   "cell_type": "code",
   "execution_count": 100,
   "id": "0fdf2514",
   "metadata": {},
   "outputs": [
    {
     "data": {
      "text/plain": [
       "array([1, 2, 5, 1, 0, 5, 2, 4, 7, 3])"
      ]
     },
     "execution_count": 100,
     "metadata": {},
     "output_type": "execute_result"
    }
   ],
   "source": [
    "cluster_labels_jaccard = predict_cluster_labels(centroids_jaccard,clusters_jaccard,read_labels)\n",
    "cluster_labels_jaccard"
   ]
  },
  {
   "cell_type": "code",
   "execution_count": 101,
   "id": "4a576e28",
   "metadata": {},
   "outputs": [
    {
     "data": {
      "text/plain": [
       "0.1075"
      ]
     },
     "execution_count": 101,
     "metadata": {},
     "output_type": "execute_result"
    }
   ],
   "source": [
    "Accuracy_Jaccard = accuracy(centroids_jaccard, cluster_labels_jaccard,test_data,test_labels)\n",
    "Accuracy_Jaccard"
   ]
  },
  {
   "cell_type": "code",
   "execution_count": 102,
   "id": "9b44a9af",
   "metadata": {},
   "outputs": [
    {
     "name": "stdout",
     "output_type": "stream",
     "text": [
      "Tolerance for the Iteration  0 :  28614.564676616916\n",
      "Tolerance for the Iteration  1 :  7797.5\n",
      "Tolerance for the Iteration  2 :  9781.409090909092\n",
      "Tolerance for the Iteration  3 :  7922.2752009894875\n",
      "Tolerance for the Iteration  4 :  4423.8129251700675\n",
      "Tolerance for the Iteration  5 :  2069.871310507674\n",
      "Tolerance for the Iteration  6 :  1867.942723543318\n",
      "Tolerance for the Iteration  7 :  1527.5668212105616\n",
      "Tolerance for the Iteration  8 :  1310.12339869339\n",
      "Tolerance for the Iteration  9 :  849.5770596107342\n",
      "Tolerance for the Iteration  10 :  783.1572056303851\n",
      "Tolerance for the Iteration  11 :  671.504407881373\n",
      "Tolerance for the Iteration  12 :  549.0144788975022\n",
      "Tolerance for the Iteration  13 :  579.510667666917\n",
      "Tolerance for the Iteration  14 :  500.9188443943625\n",
      "Tolerance for the Iteration  15 :  471.5259844285235\n",
      "Tolerance for the Iteration  16 :  346.12230753140136\n",
      "Tolerance for the Iteration  17 :  321.8975303537776\n",
      "Tolerance for the Iteration  18 :  454.9559945270224\n",
      "Tolerance for the Iteration  19 :  319.02992184536004\n",
      "Tolerance for the Iteration  20 :  309.90565865466976\n",
      "Tolerance for the Iteration  21 :  310.46913286632616\n",
      "Tolerance for the Iteration  22 :  229.43514635584552\n",
      "Tolerance for the Iteration  23 :  291.5725388601039\n",
      "Tolerance for the Iteration  24 :  352.0932642487045\n",
      "Tolerance for the Iteration  25 :  304.388757910967\n",
      "Tolerance for the Iteration  26 :  382.635247394395\n",
      "Tolerance for the Iteration  27 :  281.90532053087776\n",
      "Tolerance for the Iteration  28 :  301.21199526194346\n",
      "Tolerance for the Iteration  29 :  288.1179275093807\n",
      "Tolerance for the Iteration  30 :  359.48063521536807\n",
      "Tolerance for the Iteration  31 :  336.4972017472018\n",
      "Tolerance for the Iteration  32 :  300.95903100709165\n",
      "Tolerance for the Iteration  33 :  268.5980113054085\n",
      "Tolerance for the Iteration  34 :  301.0590929685208\n",
      "Tolerance for the Iteration  35 :  224.34160609857958\n",
      "Tolerance for the Iteration  36 :  181.9117332840131\n",
      "Tolerance for the Iteration  37 :  188.12208760484612\n",
      "Tolerance for the Iteration  38 :  180.83953680727848\n",
      "Tolerance for the Iteration  39 :  197.29856324479982\n",
      "Tolerance for the Iteration  40 :  186.58612222188293\n",
      "Tolerance for the Iteration  41 :  175.82957320457308\n",
      "Tolerance for the Iteration  42 :  172.39288920425537\n",
      "Tolerance for the Iteration  43 :  186.8977839849272\n",
      "Tolerance for the Iteration  44 :  188.46847185381665\n",
      "Tolerance for the Iteration  45 :  175.3324982605441\n",
      "Tolerance for the Iteration  46 :  210.7396335583416\n",
      "Tolerance for the Iteration  47 :  221.2814589727715\n",
      "Tolerance for the Iteration  48 :  282.8494154696295\n",
      "Tolerance for the Iteration  49 :  308.8639456093765\n",
      "Tolerance for the Iteration  50 :  221.33273875291053\n",
      "Tolerance for the Iteration  51 :  248.92931560955614\n",
      "Tolerance for the Iteration  52 :  165.78560373049618\n",
      "Tolerance for the Iteration  53 :  150.27945777554402\n",
      "Tolerance for the Iteration  54 :  114.8282512076633\n",
      "Tolerance for the Iteration  55 :  145.46956756597672\n",
      "Tolerance for the Iteration  56 :  132.03311117513144\n",
      "Tolerance for the Iteration  57 :  99.77431306178167\n",
      "Tolerance for the Iteration  58 :  114.82739205727589\n",
      "Tolerance for the Iteration  59 :  90.04797818285184\n",
      "Tolerance for the Iteration  60 :  60.641782287691235\n",
      "Tolerance for the Iteration  61 :  62.4165451029165\n",
      "Tolerance for the Iteration  62 :  38.48898825053516\n",
      "Tolerance for the Iteration  63 :  24.2831208921506\n",
      "Tolerance for the Iteration  64 :  17.69333974837457\n",
      "Tolerance for the Iteration  65 :  20.99909628404258\n",
      "Tolerance for the Iteration  66 :  56.02266449599786\n",
      "Tolerance for the Iteration  67 :  32.65557314153827\n",
      "Tolerance for the Iteration  68 :  40.06121357637874\n",
      "Tolerance for the Iteration  69 :  35.0312050340399\n",
      "Tolerance for the Iteration  70 :  0.0\n"
     ]
    }
   ],
   "source": [
    "centroids_cossine,clusters_cossine = kmeans_model.trainKmeans(read_data,10, max_iter=100,mode=3)\n",
    "SSE_cossine = kmeans_model.sseCalculation(centroids_cossine,clusters_cossine,read_data)"
   ]
  },
  {
   "cell_type": "code",
   "execution_count": 103,
   "id": "936babf9",
   "metadata": {},
   "outputs": [
    {
     "name": "stdout",
     "output_type": "stream",
     "text": [
      "SSE value for cossine  =  25625843325.084\n"
     ]
    }
   ],
   "source": [
    "print(\"SSE value for cossine  = \",SSE_cossine)"
   ]
  },
  {
   "cell_type": "code",
   "execution_count": 104,
   "id": "f6010776",
   "metadata": {},
   "outputs": [
    {
     "data": {
      "text/plain": [
       "array([2, 1, 7, 6, 9, 2, 5, 0, 3, 8])"
      ]
     },
     "execution_count": 104,
     "metadata": {},
     "output_type": "execute_result"
    }
   ],
   "source": [
    "cluster_labels_cossine = predict_cluster_labels(centroids_cossine,clusters_cossine,read_labels)\n",
    "cluster_labels_cossine"
   ]
  },
  {
   "cell_type": "code",
   "execution_count": 105,
   "id": "bb12d78b",
   "metadata": {},
   "outputs": [
    {
     "data": {
      "text/plain": [
       "0.08125"
      ]
     },
     "execution_count": 105,
     "metadata": {},
     "output_type": "execute_result"
    }
   ],
   "source": [
    "Accuracy_cossine = accuracy(centroids_cossine, cluster_labels_cossine,test_data,test_labels)\n",
    "Accuracy_cossine"
   ]
  },
  {
   "cell_type": "code",
   "execution_count": 107,
   "id": "8929a951",
   "metadata": {},
   "outputs": [
    {
     "name": "stdout",
     "output_type": "stream",
     "text": [
      "Euclidean accuracy =  0.0875\n",
      "Jacard accuracy =  0.1075\n",
      "Cosine accuracy =  0.08125\n"
     ]
    }
   ],
   "source": [
    "print(\"Euclidean accuracy = \",Euclidean_accuracy)\n",
    "print(\"Jacard accuracy = \",Accuracy_Jaccard)\n",
    "print(\"Cosine accuracy = \",Accuracy_cossine)"
   ]
  },
  {
   "cell_type": "code",
   "execution_count": 108,
   "id": "228ee623",
   "metadata": {},
   "outputs": [
    {
     "name": "stdout",
     "output_type": "stream",
     "text": [
      "SSE value for Euclidean =  25322174539.645092\n",
      "SSE value for Jaccard =  34361687572.938736\n",
      "SSE value for cossine  =  25625843325.084\n"
     ]
    }
   ],
   "source": [
    "print(\"SSE value for Euclidean = \",SSE_Euclidean)\n",
    "print(\"SSE value for Jaccard = \",SSE_jaccard)\n",
    "print(\"SSE value for cossine  = \",SSE_cossine)"
   ]
  },
  {
   "cell_type": "code",
   "execution_count": null,
   "id": "f2686776",
   "metadata": {},
   "outputs": [],
   "source": []
  }
 ],
 "metadata": {
  "kernelspec": {
   "display_name": "Python 3 (ipykernel)",
   "language": "python",
   "name": "python3"
  },
  "language_info": {
   "codemirror_mode": {
    "name": "ipython",
    "version": 3
   },
   "file_extension": ".py",
   "mimetype": "text/x-python",
   "name": "python",
   "nbconvert_exporter": "python",
   "pygments_lexer": "ipython3",
   "version": "3.11.1"
  }
 },
 "nbformat": 4,
 "nbformat_minor": 5
}
