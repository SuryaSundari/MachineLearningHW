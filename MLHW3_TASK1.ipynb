{
 "cells": [
  {
   "cell_type": "code",
   "execution_count": 1,
   "id": "4d671f6d",
   "metadata": {},
   "outputs": [],
   "source": [
    "import numpy as np\n",
    "import pandas as pd\n",
    "from sklearn.cluster import KMeans\n",
    "import scipy \n",
    "import sklearn\n",
    "from collections import Counter\n",
    "from sklearn.metrics import multilabel_confusion_matrix\n",
    "from scipy import spatial\n",
    "from sklearn.model_selection import train_test_split"
   ]
  },
  {
   "cell_type": "code",
   "execution_count": 2,
   "id": "ee3d882a",
   "metadata": {},
   "outputs": [],
   "source": [
    "read_data = pd.read_csv('Datasets/kmeans_data/data.csv')\n",
    "read_labels = pd.read_csv('Datasets/kmeans_data/label.csv',names=['label'],header=None)"
   ]
  },
  {
   "cell_type": "code",
   "execution_count": 3,
   "id": "40390050",
   "metadata": {},
   "outputs": [
    {
     "name": "stdout",
     "output_type": "stream",
     "text": [
      "<class 'pandas.core.frame.DataFrame'>\n",
      "RangeIndex: 9999 entries, 0 to 9998\n",
      "Columns: 784 entries, 0 to 0.667\n",
      "dtypes: int64(784)\n",
      "memory usage: 59.8 MB\n"
     ]
    }
   ],
   "source": [
    "read_data.info()"
   ]
  },
  {
   "cell_type": "code",
   "execution_count": 4,
   "id": "1d93131d",
   "metadata": {},
   "outputs": [
    {
     "data": {
      "text/html": [
       "<div>\n",
       "<style scoped>\n",
       "    .dataframe tbody tr th:only-of-type {\n",
       "        vertical-align: middle;\n",
       "    }\n",
       "\n",
       "    .dataframe tbody tr th {\n",
       "        vertical-align: top;\n",
       "    }\n",
       "\n",
       "    .dataframe thead th {\n",
       "        text-align: right;\n",
       "    }\n",
       "</style>\n",
       "<table border=\"1\" class=\"dataframe\">\n",
       "  <thead>\n",
       "    <tr style=\"text-align: right;\">\n",
       "      <th></th>\n",
       "      <th>0</th>\n",
       "      <th>0.1</th>\n",
       "      <th>0.2</th>\n",
       "      <th>0.3</th>\n",
       "      <th>0.4</th>\n",
       "      <th>0.5</th>\n",
       "      <th>0.6</th>\n",
       "      <th>0.7</th>\n",
       "      <th>0.8</th>\n",
       "      <th>0.9</th>\n",
       "      <th>...</th>\n",
       "      <th>0.658</th>\n",
       "      <th>0.659</th>\n",
       "      <th>0.660</th>\n",
       "      <th>0.661</th>\n",
       "      <th>0.662</th>\n",
       "      <th>0.663</th>\n",
       "      <th>0.664</th>\n",
       "      <th>0.665</th>\n",
       "      <th>0.666</th>\n",
       "      <th>0.667</th>\n",
       "    </tr>\n",
       "  </thead>\n",
       "  <tbody>\n",
       "    <tr>\n",
       "      <th>0</th>\n",
       "      <td>0</td>\n",
       "      <td>0</td>\n",
       "      <td>0</td>\n",
       "      <td>0</td>\n",
       "      <td>0</td>\n",
       "      <td>0</td>\n",
       "      <td>0</td>\n",
       "      <td>0</td>\n",
       "      <td>0</td>\n",
       "      <td>0</td>\n",
       "      <td>...</td>\n",
       "      <td>0</td>\n",
       "      <td>0</td>\n",
       "      <td>0</td>\n",
       "      <td>0</td>\n",
       "      <td>0</td>\n",
       "      <td>0</td>\n",
       "      <td>0</td>\n",
       "      <td>0</td>\n",
       "      <td>0</td>\n",
       "      <td>0</td>\n",
       "    </tr>\n",
       "    <tr>\n",
       "      <th>1</th>\n",
       "      <td>0</td>\n",
       "      <td>0</td>\n",
       "      <td>0</td>\n",
       "      <td>0</td>\n",
       "      <td>0</td>\n",
       "      <td>0</td>\n",
       "      <td>0</td>\n",
       "      <td>0</td>\n",
       "      <td>0</td>\n",
       "      <td>0</td>\n",
       "      <td>...</td>\n",
       "      <td>0</td>\n",
       "      <td>0</td>\n",
       "      <td>0</td>\n",
       "      <td>0</td>\n",
       "      <td>0</td>\n",
       "      <td>0</td>\n",
       "      <td>0</td>\n",
       "      <td>0</td>\n",
       "      <td>0</td>\n",
       "      <td>0</td>\n",
       "    </tr>\n",
       "    <tr>\n",
       "      <th>2</th>\n",
       "      <td>0</td>\n",
       "      <td>0</td>\n",
       "      <td>0</td>\n",
       "      <td>0</td>\n",
       "      <td>0</td>\n",
       "      <td>0</td>\n",
       "      <td>0</td>\n",
       "      <td>0</td>\n",
       "      <td>0</td>\n",
       "      <td>0</td>\n",
       "      <td>...</td>\n",
       "      <td>0</td>\n",
       "      <td>0</td>\n",
       "      <td>0</td>\n",
       "      <td>0</td>\n",
       "      <td>0</td>\n",
       "      <td>0</td>\n",
       "      <td>0</td>\n",
       "      <td>0</td>\n",
       "      <td>0</td>\n",
       "      <td>0</td>\n",
       "    </tr>\n",
       "    <tr>\n",
       "      <th>3</th>\n",
       "      <td>0</td>\n",
       "      <td>0</td>\n",
       "      <td>0</td>\n",
       "      <td>0</td>\n",
       "      <td>0</td>\n",
       "      <td>0</td>\n",
       "      <td>0</td>\n",
       "      <td>0</td>\n",
       "      <td>0</td>\n",
       "      <td>0</td>\n",
       "      <td>...</td>\n",
       "      <td>0</td>\n",
       "      <td>0</td>\n",
       "      <td>0</td>\n",
       "      <td>0</td>\n",
       "      <td>0</td>\n",
       "      <td>0</td>\n",
       "      <td>0</td>\n",
       "      <td>0</td>\n",
       "      <td>0</td>\n",
       "      <td>0</td>\n",
       "    </tr>\n",
       "    <tr>\n",
       "      <th>4</th>\n",
       "      <td>0</td>\n",
       "      <td>0</td>\n",
       "      <td>0</td>\n",
       "      <td>0</td>\n",
       "      <td>0</td>\n",
       "      <td>0</td>\n",
       "      <td>0</td>\n",
       "      <td>0</td>\n",
       "      <td>0</td>\n",
       "      <td>0</td>\n",
       "      <td>...</td>\n",
       "      <td>0</td>\n",
       "      <td>0</td>\n",
       "      <td>0</td>\n",
       "      <td>0</td>\n",
       "      <td>0</td>\n",
       "      <td>0</td>\n",
       "      <td>0</td>\n",
       "      <td>0</td>\n",
       "      <td>0</td>\n",
       "      <td>0</td>\n",
       "    </tr>\n",
       "  </tbody>\n",
       "</table>\n",
       "<p>5 rows × 784 columns</p>\n",
       "</div>"
      ],
      "text/plain": [
       "   0  0.1  0.2  0.3  0.4  0.5  0.6  0.7  0.8  0.9  ...  0.658  0.659  0.660  \\\n",
       "0  0    0    0    0    0    0    0    0    0    0  ...      0      0      0   \n",
       "1  0    0    0    0    0    0    0    0    0    0  ...      0      0      0   \n",
       "2  0    0    0    0    0    0    0    0    0    0  ...      0      0      0   \n",
       "3  0    0    0    0    0    0    0    0    0    0  ...      0      0      0   \n",
       "4  0    0    0    0    0    0    0    0    0    0  ...      0      0      0   \n",
       "\n",
       "   0.661  0.662  0.663  0.664  0.665  0.666  0.667  \n",
       "0      0      0      0      0      0      0      0  \n",
       "1      0      0      0      0      0      0      0  \n",
       "2      0      0      0      0      0      0      0  \n",
       "3      0      0      0      0      0      0      0  \n",
       "4      0      0      0      0      0      0      0  \n",
       "\n",
       "[5 rows x 784 columns]"
      ]
     },
     "execution_count": 4,
     "metadata": {},
     "output_type": "execute_result"
    }
   ],
   "source": [
    "read_data.head()"
   ]
  },
  {
   "cell_type": "code",
   "execution_count": 5,
   "id": "34b58120",
   "metadata": {},
   "outputs": [],
   "source": [
    "train_data, test_data = train_test_split( read_data, test_size=0.08, random_state=42)\n",
    "train_labels, test_labels = train_test_split( read_labels, test_size=0.08, random_state=42)"
   ]
  },
  {
   "cell_type": "code",
   "execution_count": 6,
   "id": "dae969fe",
   "metadata": {},
   "outputs": [],
   "source": [
    "class Kmeans_algo:\n",
    "    \n",
    "    def sseCalculation(self, centr_value_dict, centr_dict,read_data):\n",
    "        sse_data = 0\n",
    "        for i in centr_dict:\n",
    "            sse_cluster = 0\n",
    "            # np.sum()\n",
    "            for j in centr_dict[i]:\n",
    "                d = list(read_data.iloc[int(j)])\n",
    "                for a,b in zip(centr_value_dict[i],d):\n",
    "                    sse_cluster += (a-b)**2\n",
    "            sse_data+=sse_cluster\n",
    "        return sse_data    \n",
    "    \n",
    "    def initializingCent(self,read_data,K):\n",
    "        m = read_data.shape[0]\n",
    "        centr_value_dict={}\n",
    "        for i in range(K):\n",
    "            r = np.random.randint(0, m-1)\n",
    "            centr_value_dict[i] = read_data.iloc[r]\n",
    "        return centr_value_dict\n",
    "    \n",
    "    def jaccardSimilarity(self,centr, d):\n",
    "        intersection = len(list(set(centr).intersection(d)))\n",
    "        union = (len(set(centr)) + len(set(d))) - intersection\n",
    "        return float(intersection) / union\n",
    "\n",
    "    def trainKmeans(self,read_data,K,max_iter=20,mode=1,tol=10):\n",
    "        centr_value_dict = self.initializingCent(read_data,K)\n",
    "        new_centr_value_dict = {}\n",
    "        count = 0\n",
    "        centr_dict = {}\n",
    "        convergence = False\n",
    "        while((count<max_iter) and not convergence):\n",
    "            \n",
    "            for i in list(centr_value_dict.keys()):\n",
    "                centr_dict[i]=[]\n",
    "            for i in range(read_data.shape[0]):\n",
    "                x = read_data.iloc[i]\n",
    "                if mode==1 :\n",
    "                    distance_measure = [np.linalg.norm(x-centr_value_dict[j])  for j in centr_value_dict]\n",
    "                    idx = np.argmin(distance_measure)\n",
    "                    centr_dict[idx].append(i)\n",
    "                elif mode==2 :\n",
    "                    distance_measure = [self.jaccardSimilarity(list(x),centr_value_dict[j]) for j in centr_value_dict]\n",
    "                    idx = np.argmax(distance_measure)\n",
    "                    centr_dict[idx].append(i)\n",
    "                elif mode==3 :\n",
    "                    distance_measure = [1-scipy.spatial.distance.cosine(x,list(centr_value_dict[j]))  for j in centr_value_dict]\n",
    "                    idx = np.argmax(distance_measure)\n",
    "                    centr_dict[idx].append(i)\n",
    "                \n",
    "                prev_centr=dict(centr_value_dict)\n",
    "                \n",
    "            \n",
    "            for i in centr_dict:\n",
    "                if len(centr_dict[i]):\n",
    "                    dps_centr = centr_dict[i]\n",
    "                    centr_value_dict[i] = np.average(read_data.iloc[dps_centr],axis=0)\n",
    "            \n",
    "            \n",
    "            current_tol=-1\n",
    "            for i in centr_value_dict:\n",
    "                prev_centr_point = prev_centr[i]\n",
    "                new_centr_point = centr_value_dict[i]\n",
    "                change = np.sum(np.absolute(new_centr_point-prev_centr_point))\n",
    "                current_tol = max(change, current_tol)\n",
    "            print(\"SSE value for iteration \",count,\": \", self.sseCalculation(centr_value_dict, centr_dict, read_data)) \n",
    "            print(\"Tolerance for the Iteration \",count,\": \",current_tol)\n",
    "            \n",
    "            count+=1\n",
    "            if (current_tol<10):\n",
    "                convergence = True\n",
    "                break\n",
    "           # print(\"KMeans Iteration\",count)\n",
    "        return centr_value_dict,centr_dict"
   ]
  },
  {
   "cell_type": "code",
   "execution_count": 7,
   "id": "6134cb46",
   "metadata": {},
   "outputs": [],
   "source": [
    "def predict_cluster_labels(C, S, labels):\n",
    "    cluster_labels = np.zeros(10,dtype=int)\n",
    "    for c in C:\n",
    "        labels_of_points = []\n",
    "        for point in S[c]:\n",
    "            labels_of_points.extend(labels.iloc[point])\n",
    "        counter = Counter(labels_of_points)\n",
    "        try:\n",
    "            cluster_labels[c] = max(counter, key=counter.get)\n",
    "        except:\n",
    "            cluster_labels[c] = np.random.randint(0,9)\n",
    "    return cluster_labels"
   ]
  },
  {
   "cell_type": "code",
   "execution_count": 8,
   "id": "ddf54723",
   "metadata": {},
   "outputs": [],
   "source": [
    "def accuracy(centroids, centroid_Labels, test_data, true_labels, mode=1):\n",
    "    y_true = list(true_labels['label']);\n",
    "    y_pred = []\n",
    "    for index in range(test_data.shape[0]):\n",
    "        featureset = test_data.iloc[index]\n",
    "        if mode==1:\n",
    "            distances = [np.linalg.norm(featureset - centroids[centroid]) for centroid in centroids]\n",
    "            classification = distances.index(min(distances))\n",
    "            y_pred.append(centroid_Labels[classification])\n",
    "        elif mode==2:\n",
    "            similarity = [jaccardSimilarity(featureset, centroids[centroid]) for centroid in centroids]\n",
    "            classification = similarity.index(max(similarity))\n",
    "            y_pred.append(centroid_Labels[classification]) \n",
    "        elif mode==3:\n",
    "            similarity = [1 - spatial.distance.cosine(featureset, centroids[centroid]) for centroid in centroids]\n",
    "            classification = similarity.index(max(similarity))\n",
    "            y_pred.append(centroid_Labels[classification])\n",
    "    denominator = test_data.shape[0]\n",
    "    correctly_classified = 0\n",
    "    for i in range(0,len(y_pred)):\n",
    "        if y_true[i] == y_pred[i]:\n",
    "            correctly_classified += 1\n",
    "    accuracy = correctly_classified/denominator\n",
    "    return accuracy\n"
   ]
  },
  {
   "cell_type": "code",
   "execution_count": 9,
   "id": "b91c510e",
   "metadata": {},
   "outputs": [
    {
     "name": "stdout",
     "output_type": "stream",
     "text": [
      "SSE value for iteration  0 :  29063767116.12679\n",
      "Tolerance for the Iteration  0 :  22744.890595009598\n",
      "SSE value for iteration  1 :  26987660351.83455\n",
      "Tolerance for the Iteration  1 :  7399.941705990486\n",
      "SSE value for iteration  2 :  26304921310.92179\n",
      "Tolerance for the Iteration  2 :  4918.691764751887\n",
      "SSE value for iteration  3 :  25948279368.959244\n",
      "Tolerance for the Iteration  3 :  3740.0271179549063\n",
      "SSE value for iteration  4 :  25757219310.772552\n",
      "Tolerance for the Iteration  4 :  2621.5272593952286\n",
      "SSE value for iteration  5 :  25654062849.206013\n",
      "Tolerance for the Iteration  5 :  2041.4604639010468\n",
      "SSE value for iteration  6 :  25586447229.2848\n",
      "Tolerance for the Iteration  6 :  1844.6750666249945\n",
      "SSE value for iteration  7 :  25538689598.864914\n",
      "Tolerance for the Iteration  7 :  1574.3413228346458\n",
      "SSE value for iteration  8 :  25504563649.252552\n",
      "Tolerance for the Iteration  8 :  1395.270811522395\n",
      "SSE value for iteration  9 :  25483420382.255672\n",
      "Tolerance for the Iteration  9 :  934.8228793564158\n",
      "SSE value for iteration  10 :  25465585983.549778\n",
      "Tolerance for the Iteration  10 :  864.6918429003022\n",
      "SSE value for iteration  11 :  25451981285.658287\n",
      "Tolerance for the Iteration  11 :  685.6204877914395\n",
      "SSE value for iteration  12 :  25440979574.835026\n",
      "Tolerance for the Iteration  12 :  665.1855763775824\n",
      "SSE value for iteration  13 :  25432091167.579998\n",
      "Tolerance for the Iteration  13 :  604.1277928442535\n",
      "SSE value for iteration  14 :  25423995748.358116\n",
      "Tolerance for the Iteration  14 :  535.5413268099563\n",
      "SSE value for iteration  15 :  25417388569.27428\n",
      "Tolerance for the Iteration  15 :  486.57075760181965\n",
      "SSE value for iteration  16 :  25410492405.809208\n",
      "Tolerance for the Iteration  16 :  532.7346451403347\n",
      "SSE value for iteration  17 :  25404628747.42939\n",
      "Tolerance for the Iteration  17 :  473.5751755692701\n",
      "SSE value for iteration  18 :  25400049318.843914\n",
      "Tolerance for the Iteration  18 :  418.2262904858301\n",
      "SSE value for iteration  19 :  25397181463.774654\n",
      "Tolerance for the Iteration  19 :  373.5518194380469\n",
      "SSE value for iteration  20 :  25394683901.403446\n",
      "Tolerance for the Iteration  20 :  387.75101214574886\n",
      "SSE value for iteration  21 :  25392766658.288677\n",
      "Tolerance for the Iteration  21 :  346.15628105213887\n",
      "SSE value for iteration  22 :  25391014984.421726\n",
      "Tolerance for the Iteration  22 :  265.2044307448267\n",
      "SSE value for iteration  23 :  25389626129.89549\n",
      "Tolerance for the Iteration  23 :  200.8420832228847\n",
      "SSE value for iteration  24 :  25388528843.876427\n",
      "Tolerance for the Iteration  24 :  204.33254246317136\n",
      "SSE value for iteration  25 :  25387627209.249046\n",
      "Tolerance for the Iteration  25 :  256.7596452163283\n",
      "SSE value for iteration  26 :  25387059189.511215\n",
      "Tolerance for the Iteration  26 :  160.84317718940912\n",
      "SSE value for iteration  27 :  25386553095.57587\n",
      "Tolerance for the Iteration  27 :  150.3493842512075\n",
      "SSE value for iteration  28 :  25386204600.138702\n",
      "Tolerance for the Iteration  28 :  130.92051293562614\n",
      "SSE value for iteration  29 :  25385832228.008995\n",
      "Tolerance for the Iteration  29 :  205.91635814889344\n",
      "SSE value for iteration  30 :  25385633396.99493\n",
      "Tolerance for the Iteration  30 :  156.25199999999998\n",
      "SSE value for iteration  31 :  25385514248.507248\n",
      "Tolerance for the Iteration  31 :  128.47609145129226\n",
      "SSE value for iteration  32 :  25385348736.484673\n",
      "Tolerance for the Iteration  32 :  165.66640394320453\n",
      "SSE value for iteration  33 :  25385099636.765297\n",
      "Tolerance for the Iteration  33 :  203.3423931365597\n",
      "SSE value for iteration  34 :  25384807923.819714\n",
      "Tolerance for the Iteration  34 :  233.19597831910974\n",
      "SSE value for iteration  35 :  25384521356.580154\n",
      "Tolerance for the Iteration  35 :  172.59340177205544\n",
      "SSE value for iteration  36 :  25384081335.2493\n",
      "Tolerance for the Iteration  36 :  271.43358840482216\n",
      "SSE value for iteration  37 :  25383671398.520115\n",
      "Tolerance for the Iteration  37 :  246.92418096019387\n",
      "SSE value for iteration  38 :  25383307088.169098\n",
      "Tolerance for the Iteration  38 :  236.88772486890804\n",
      "SSE value for iteration  39 :  25383171770.132263\n",
      "Tolerance for the Iteration  39 :  137.12798706619745\n",
      "SSE value for iteration  40 :  25382909992.16178\n",
      "Tolerance for the Iteration  40 :  226.9885057471264\n",
      "SSE value for iteration  41 :  25382532685.40589\n",
      "Tolerance for the Iteration  41 :  272.89080459770116\n",
      "SSE value for iteration  42 :  25381912564.898476\n",
      "Tolerance for the Iteration  42 :  359.0728599272254\n",
      "SSE value for iteration  43 :  25381499832.010277\n",
      "Tolerance for the Iteration  43 :  209.29366033621326\n",
      "SSE value for iteration  44 :  25380772608.382446\n",
      "Tolerance for the Iteration  44 :  388.00386100386106\n",
      "SSE value for iteration  45 :  25380004726.76333\n",
      "Tolerance for the Iteration  45 :  357.29395159182394\n",
      "SSE value for iteration  46 :  25378756634.590923\n",
      "Tolerance for the Iteration  46 :  496.403362594852\n",
      "SSE value for iteration  47 :  25377603980.539623\n",
      "Tolerance for the Iteration  47 :  356.89321920853723\n",
      "SSE value for iteration  48 :  25376321049.649876\n",
      "Tolerance for the Iteration  48 :  449.80539499036604\n",
      "SSE value for iteration  49 :  25375425123.469883\n",
      "Tolerance for the Iteration  49 :  340.91556485726306\n",
      "SSE value for iteration  50 :  25374522975.208946\n",
      "Tolerance for the Iteration  50 :  363.76212556600484\n",
      "SSE value for iteration  51 :  25373906153.07286\n",
      "Tolerance for the Iteration  51 :  344.2954545454543\n",
      "SSE value for iteration  52 :  25373300342.271423\n",
      "Tolerance for the Iteration  52 :  275.8776643554187\n",
      "SSE value for iteration  53 :  25373091847.248253\n",
      "Tolerance for the Iteration  53 :  148.90840802571404\n",
      "SSE value for iteration  54 :  25372913483.064255\n",
      "Tolerance for the Iteration  54 :  163.63440731284112\n",
      "SSE value for iteration  55 :  25372743633.360794\n",
      "Tolerance for the Iteration  55 :  139.18531947635807\n",
      "SSE value for iteration  56 :  25372632885.401947\n",
      "Tolerance for the Iteration  56 :  128.58503441577625\n",
      "SSE value for iteration  57 :  25372536967.58232\n",
      "Tolerance for the Iteration  57 :  116.20268006700145\n",
      "SSE value for iteration  58 :  25372305541.513496\n",
      "Tolerance for the Iteration  58 :  172.47707363080298\n",
      "SSE value for iteration  59 :  25372115890.607956\n",
      "Tolerance for the Iteration  59 :  166.31054958596553\n",
      "SSE value for iteration  60 :  25372068803.044205\n",
      "Tolerance for the Iteration  60 :  92.92307692307688\n",
      "SSE value for iteration  61 :  25372068803.044205\n",
      "Tolerance for the Iteration  61 :  0.0\n"
     ]
    }
   ],
   "source": [
    "kmeans_model = Kmeans_algo()\n",
    "centroids_euclidian,clusters_euclidian = kmeans_model.trainKmeans(read_data,10, max_iter=100,mode=1)"
   ]
  },
  {
   "cell_type": "code",
   "execution_count": 10,
   "id": "59712aae",
   "metadata": {},
   "outputs": [
    {
     "name": "stdout",
     "output_type": "stream",
     "text": [
      "SSE value for Euclidean =  25372068803.044205\n"
     ]
    }
   ],
   "source": [
    "SSE_Euclidean = kmeans_model.sseCalculation(centroids_euclidian,clusters_euclidian,read_data)\n",
    "print(\"SSE value for Euclidean = \",SSE_Euclidean)"
   ]
  },
  {
   "cell_type": "code",
   "execution_count": 11,
   "id": "5072e728",
   "metadata": {},
   "outputs": [
    {
     "data": {
      "text/plain": [
       "array([3, 5, 7, 3, 9, 9, 0, 0, 1, 2])"
      ]
     },
     "execution_count": 11,
     "metadata": {},
     "output_type": "execute_result"
    }
   ],
   "source": [
    "cluster_labels_euclidian = predict_cluster_labels(centroids_euclidian,clusters_euclidian,read_labels)\n",
    "cluster_labels_euclidian"
   ]
  },
  {
   "cell_type": "code",
   "execution_count": 12,
   "id": "fba57b3d",
   "metadata": {},
   "outputs": [
    {
     "data": {
      "text/plain": [
       "0.09375"
      ]
     },
     "execution_count": 12,
     "metadata": {},
     "output_type": "execute_result"
    }
   ],
   "source": [
    "Euclidean_accuracy = accuracy(centroids_euclidian, cluster_labels_euclidian,test_data,test_labels)\n",
    "Euclidean_accuracy"
   ]
  },
  {
   "cell_type": "code",
   "execution_count": 13,
   "id": "e92df47d",
   "metadata": {},
   "outputs": [
    {
     "name": "stdout",
     "output_type": "stream",
     "text": [
      "SSE value for iteration  0 :  34144779471.069885\n",
      "Tolerance for the Iteration  0 :  35792.27618433774\n",
      "SSE value for iteration  1 :  34361687572.938736\n",
      "Tolerance for the Iteration  1 :  26323.993799379936\n",
      "SSE value for iteration  2 :  34305153676.593925\n",
      "Tolerance for the Iteration  2 :  12115.617141511655\n",
      "SSE value for iteration  3 :  34341364147.999336\n",
      "Tolerance for the Iteration  3 :  5233.925366300367\n",
      "SSE value for iteration  4 :  34338992007.305153\n",
      "Tolerance for the Iteration  4 :  2383.03672669309\n",
      "SSE value for iteration  5 :  34347476778.461205\n",
      "Tolerance for the Iteration  5 :  2151.7423185581138\n",
      "SSE value for iteration  6 :  34331654269.928753\n",
      "Tolerance for the Iteration  6 :  927.982295578079\n",
      "SSE value for iteration  7 :  34361687572.938736\n",
      "Tolerance for the Iteration  7 :  659.835333697125\n",
      "SSE value for iteration  8 :  34361687572.938736\n",
      "Tolerance for the Iteration  8 :  1593.3019194996423\n",
      "SSE value for iteration  9 :  34361687572.938736\n",
      "Tolerance for the Iteration  9 :  802.6071413181302\n",
      "SSE value for iteration  10 :  34361687572.938736\n",
      "Tolerance for the Iteration  10 :  759.8532138057949\n",
      "SSE value for iteration  11 :  34361687572.938736\n",
      "Tolerance for the Iteration  11 :  1292.8021385445022\n",
      "SSE value for iteration  12 :  34361687572.938736\n",
      "Tolerance for the Iteration  12 :  653.9094686252236\n",
      "SSE value for iteration  13 :  34361687572.938736\n",
      "Tolerance for the Iteration  13 :  559.8844425867103\n",
      "SSE value for iteration  14 :  34361687572.938736\n",
      "Tolerance for the Iteration  14 :  571.4947312885693\n",
      "SSE value for iteration  15 :  34361687572.938736\n",
      "Tolerance for the Iteration  15 :  296.82005751570495\n",
      "SSE value for iteration  16 :  34361687572.938736\n",
      "Tolerance for the Iteration  16 :  0.0\n"
     ]
    }
   ],
   "source": [
    "centroids_jaccard,clusters_jaccard = kmeans_model.trainKmeans(read_data,10, max_iter=100,mode=2)\n",
    "SSE_jaccard = kmeans_model.sseCalculation(centroids_jaccard,clusters_jaccard,read_data)"
   ]
  },
  {
   "cell_type": "code",
   "execution_count": 99,
   "id": "6c81e62f",
   "metadata": {},
   "outputs": [
    {
     "name": "stdout",
     "output_type": "stream",
     "text": [
      "SSE value for Jaccard  =  34361687572.938736\n"
     ]
    }
   ],
   "source": [
    "print(\"SSE value for Jaccard  = \",SSE_jaccard)"
   ]
  },
  {
   "cell_type": "code",
   "execution_count": 14,
   "id": "0fdf2514",
   "metadata": {},
   "outputs": [
    {
     "data": {
      "text/plain": [
       "array([1, 8, 5, 8, 1, 0, 0, 7, 7, 8])"
      ]
     },
     "execution_count": 14,
     "metadata": {},
     "output_type": "execute_result"
    }
   ],
   "source": [
    "cluster_labels_jaccard = predict_cluster_labels(centroids_jaccard,clusters_jaccard,read_labels)\n",
    "cluster_labels_jaccard"
   ]
  },
  {
   "cell_type": "code",
   "execution_count": 15,
   "id": "4a576e28",
   "metadata": {},
   "outputs": [
    {
     "data": {
      "text/plain": [
       "0.1075"
      ]
     },
     "execution_count": 15,
     "metadata": {},
     "output_type": "execute_result"
    }
   ],
   "source": [
    "Accuracy_Jaccard = accuracy(centroids_jaccard, cluster_labels_jaccard,test_data,test_labels)\n",
    "Accuracy_Jaccard"
   ]
  },
  {
   "cell_type": "code",
   "execution_count": 16,
   "id": "9b44a9af",
   "metadata": {},
   "outputs": [
    {
     "name": "stdout",
     "output_type": "stream",
     "text": [
      "SSE value for iteration  0 :  28143892301.059044\n",
      "Tolerance for the Iteration  0 :  28293.965601965603\n",
      "SSE value for iteration  1 :  26453270584.375805\n",
      "Tolerance for the Iteration  1 :  4661.702241199839\n",
      "SSE value for iteration  2 :  26064800363.76714\n",
      "Tolerance for the Iteration  2 :  3599.680484587543\n",
      "SSE value for iteration  3 :  25912363262.45425\n",
      "Tolerance for the Iteration  3 :  2044.560350455972\n",
      "SSE value for iteration  4 :  25859210064.426548\n",
      "Tolerance for the Iteration  4 :  1050.6214454576157\n",
      "SSE value for iteration  5 :  25826378199.19674\n",
      "Tolerance for the Iteration  5 :  1132.7750539319209\n",
      "SSE value for iteration  6 :  25788593523.325306\n",
      "Tolerance for the Iteration  6 :  1561.5035167335068\n",
      "SSE value for iteration  7 :  25749791488.5029\n",
      "Tolerance for the Iteration  7 :  1640.7930207600932\n",
      "SSE value for iteration  8 :  25710589625.14729\n",
      "Tolerance for the Iteration  8 :  1558.319980719134\n",
      "SSE value for iteration  9 :  25679297737.328876\n",
      "Tolerance for the Iteration  9 :  1536.0777363175325\n",
      "SSE value for iteration  10 :  25648193108.567547\n",
      "Tolerance for the Iteration  10 :  1611.8068548210997\n",
      "SSE value for iteration  11 :  25622972022.863598\n",
      "Tolerance for the Iteration  11 :  1409.6552447394124\n",
      "SSE value for iteration  12 :  25600425915.705696\n",
      "Tolerance for the Iteration  12 :  1256.5622929727544\n",
      "SSE value for iteration  13 :  25593043894.071262\n",
      "Tolerance for the Iteration  13 :  801.2498131721443\n",
      "SSE value for iteration  14 :  25585296014.45399\n",
      "Tolerance for the Iteration  14 :  645.3801140878222\n",
      "SSE value for iteration  15 :  25575678345.545563\n",
      "Tolerance for the Iteration  15 :  526.7300420168067\n",
      "SSE value for iteration  16 :  25570920172.456856\n",
      "Tolerance for the Iteration  16 :  668.8338486337931\n",
      "SSE value for iteration  17 :  25564280199.292553\n",
      "Tolerance for the Iteration  17 :  637.748598159624\n",
      "SSE value for iteration  18 :  25558318370.532497\n",
      "Tolerance for the Iteration  18 :  546.4488062211618\n",
      "SSE value for iteration  19 :  25557065298.198284\n",
      "Tolerance for the Iteration  19 :  346.9852143880494\n",
      "SSE value for iteration  20 :  25555271788.050747\n",
      "Tolerance for the Iteration  20 :  321.51971112830574\n",
      "SSE value for iteration  21 :  25553870225.82098\n",
      "Tolerance for the Iteration  21 :  239.80188349962128\n",
      "SSE value for iteration  22 :  25553803389.4395\n",
      "Tolerance for the Iteration  22 :  145.69051480667892\n",
      "SSE value for iteration  23 :  25554648111.71644\n",
      "Tolerance for the Iteration  23 :  73.41745531019988\n",
      "SSE value for iteration  24 :  25554849874.182915\n",
      "Tolerance for the Iteration  24 :  39.07255520504721\n",
      "SSE value for iteration  25 :  25554771499.114777\n",
      "Tolerance for the Iteration  25 :  64.15252982639845\n",
      "SSE value for iteration  26 :  25554466565.67901\n",
      "Tolerance for the Iteration  26 :  64.84131081840785\n",
      "SSE value for iteration  27 :  25554203072.44451\n",
      "Tolerance for the Iteration  27 :  50.82212694617359\n",
      "SSE value for iteration  28 :  25554284619.45632\n",
      "Tolerance for the Iteration  28 :  52.19751069675878\n",
      "SSE value for iteration  29 :  25554261392.387856\n",
      "Tolerance for the Iteration  29 :  72.0900100098784\n",
      "SSE value for iteration  30 :  25554228386.188995\n",
      "Tolerance for the Iteration  30 :  36.05461655847719\n",
      "SSE value for iteration  31 :  25554155848.178493\n",
      "Tolerance for the Iteration  31 :  46.635406336447645\n",
      "SSE value for iteration  32 :  25554132050.669548\n",
      "Tolerance for the Iteration  32 :  60.20233449161091\n",
      "SSE value for iteration  33 :  25554010044.43668\n",
      "Tolerance for the Iteration  33 :  79.82573946890136\n",
      "SSE value for iteration  34 :  25553954925.502445\n",
      "Tolerance for the Iteration  34 :  29.829632415305117\n",
      "SSE value for iteration  35 :  25553948619.810722\n",
      "Tolerance for the Iteration  35 :  33.97224935831143\n",
      "SSE value for iteration  36 :  25553949010.409546\n",
      "Tolerance for the Iteration  36 :  52.11423110195166\n",
      "SSE value for iteration  37 :  25553893260.337734\n",
      "Tolerance for the Iteration  37 :  32.98288737861023\n",
      "SSE value for iteration  38 :  25553974860.134205\n",
      "Tolerance for the Iteration  38 :  42.9775084238852\n",
      "SSE value for iteration  39 :  25553934557.612717\n",
      "Tolerance for the Iteration  39 :  31.687007669739046\n",
      "SSE value for iteration  40 :  25553949716.612648\n",
      "Tolerance for the Iteration  40 :  27.822840894476435\n",
      "SSE value for iteration  41 :  25553949716.612648\n",
      "Tolerance for the Iteration  41 :  0.0\n"
     ]
    }
   ],
   "source": [
    "centroids_cossine,clusters_cossine = kmeans_model.trainKmeans(read_data,10, max_iter=100,mode=3)\n",
    "SSE_cossine = kmeans_model.sseCalculation(centroids_cossine,clusters_cossine,read_data)"
   ]
  },
  {
   "cell_type": "code",
   "execution_count": 17,
   "id": "936babf9",
   "metadata": {},
   "outputs": [
    {
     "name": "stdout",
     "output_type": "stream",
     "text": [
      "SSE value for cossine  =  25553949716.612648\n"
     ]
    }
   ],
   "source": [
    "print(\"SSE value for cossine  = \",SSE_cossine)"
   ]
  },
  {
   "cell_type": "code",
   "execution_count": 18,
   "id": "f6010776",
   "metadata": {},
   "outputs": [
    {
     "data": {
      "text/plain": [
       "array([3, 4, 1, 8, 9, 2, 0, 7, 3, 0])"
      ]
     },
     "execution_count": 18,
     "metadata": {},
     "output_type": "execute_result"
    }
   ],
   "source": [
    "cluster_labels_cossine = predict_cluster_labels(centroids_cossine,clusters_cossine,read_labels)\n",
    "cluster_labels_cossine"
   ]
  },
  {
   "cell_type": "code",
   "execution_count": 19,
   "id": "bb12d78b",
   "metadata": {},
   "outputs": [
    {
     "data": {
      "text/plain": [
       "0.0725"
      ]
     },
     "execution_count": 19,
     "metadata": {},
     "output_type": "execute_result"
    }
   ],
   "source": [
    "Accuracy_cossine = accuracy(centroids_cossine, cluster_labels_cossine,test_data,test_labels)\n",
    "Accuracy_cossine"
   ]
  },
  {
   "cell_type": "code",
   "execution_count": 20,
   "id": "8929a951",
   "metadata": {},
   "outputs": [
    {
     "name": "stdout",
     "output_type": "stream",
     "text": [
      "Euclidean accuracy =  0.09375\n",
      "Jacard accuracy =  0.1075\n",
      "Cosine accuracy =  0.0725\n"
     ]
    }
   ],
   "source": [
    "print(\"Euclidean accuracy = \",Euclidean_accuracy)\n",
    "print(\"Jacard accuracy = \",Accuracy_Jaccard)\n",
    "print(\"Cosine accuracy = \",Accuracy_cossine)"
   ]
  },
  {
   "cell_type": "code",
   "execution_count": 21,
   "id": "228ee623",
   "metadata": {},
   "outputs": [
    {
     "name": "stdout",
     "output_type": "stream",
     "text": [
      "SSE value for Euclidean =  25372068803.044205\n",
      "SSE value for Jaccard =  34361687572.938736\n",
      "SSE value for cossine  =  25553949716.612648\n"
     ]
    }
   ],
   "source": [
    "print(\"SSE value for Euclidean = \",SSE_Euclidean)\n",
    "print(\"SSE value for Jaccard = \",SSE_jaccard)\n",
    "print(\"SSE value for cossine  = \",SSE_cossine)"
   ]
  },
  {
   "cell_type": "code",
   "execution_count": null,
   "id": "f2686776",
   "metadata": {},
   "outputs": [],
   "source": []
  }
 ],
 "metadata": {
  "kernelspec": {
   "display_name": "Python 3 (ipykernel)",
   "language": "python",
   "name": "python3"
  },
  "language_info": {
   "codemirror_mode": {
    "name": "ipython",
    "version": 3
   },
   "file_extension": ".py",
   "mimetype": "text/x-python",
   "name": "python",
   "nbconvert_exporter": "python",
   "pygments_lexer": "ipython3",
   "version": "3.11.1"
  }
 },
 "nbformat": 4,
 "nbformat_minor": 5
}
