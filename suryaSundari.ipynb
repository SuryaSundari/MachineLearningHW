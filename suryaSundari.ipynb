{
 "cells": [
  {
   "cell_type": "code",
   "execution_count": 1,
   "id": "ff0779ec",
   "metadata": {
    "_cell_guid": "b1076dfc-b9ad-4769-8c92-a6c4dae69d19",
    "_uuid": "8f2839f25d086af736a60e9eeb907d3b93b6e0e5",
    "execution": {
     "iopub.execute_input": "2023-04-18T15:09:02.497520Z",
     "iopub.status.busy": "2023-04-18T15:09:02.497102Z",
     "iopub.status.idle": "2023-04-18T15:09:34.606777Z",
     "shell.execute_reply": "2023-04-18T15:09:34.605492Z"
    },
    "papermill": {
     "duration": 32.118804,
     "end_time": "2023-04-18T15:09:34.609926",
     "exception": false,
     "start_time": "2023-04-18T15:09:02.491122",
     "status": "completed"
    },
    "tags": []
   },
   "outputs": [
    {
     "name": "stdout",
     "output_type": "stream",
     "text": [
      "\u001b[33mWARNING: Running pip as the 'root' user can result in broken permissions and conflicting behaviour with the system package manager. It is recommended to use a virtual environment instead: https://pip.pypa.io/warnings/venv\u001b[0m\u001b[33m\r\n",
      "\u001b[0m\u001b[33mWARNING: There was an error checking the latest version of pip.\u001b[0m\u001b[33m\r\n",
      "\u001b[0m"
     ]
    }
   ],
   "source": [
    "!pip install scikit-learn-intelex --progress-bar off >> /tmp/pip_sklearnex.log"
   ]
  },
  {
   "cell_type": "code",
   "execution_count": 2,
   "id": "b2e5ef1d",
   "metadata": {
    "execution": {
     "iopub.execute_input": "2023-04-18T15:09:34.619520Z",
     "iopub.status.busy": "2023-04-18T15:09:34.618467Z",
     "iopub.status.idle": "2023-04-18T15:09:37.057055Z",
     "shell.execute_reply": "2023-04-18T15:09:37.055942Z"
    },
    "papermill": {
     "duration": 2.446498,
     "end_time": "2023-04-18T15:09:37.059877",
     "exception": false,
     "start_time": "2023-04-18T15:09:34.613379",
     "status": "completed"
    },
    "tags": []
   },
   "outputs": [
    {
     "name": "stderr",
     "output_type": "stream",
     "text": [
      "Intel(R) Extension for Scikit-learn* enabled (https://github.com/intel/scikit-learn-intelex)\n"
     ]
    }
   ],
   "source": [
    "import pandas as pd\n",
    "import numpy as np\n",
    "from sklearnex import patch_sklearn\n",
    "patch_sklearn()\n",
    "from sklearn import *\n",
    "import glob"
   ]
  },
  {
   "cell_type": "code",
   "execution_count": 3,
   "id": "89261070",
   "metadata": {
    "execution": {
     "iopub.execute_input": "2023-04-18T15:09:37.068401Z",
     "iopub.status.busy": "2023-04-18T15:09:37.068014Z",
     "iopub.status.idle": "2023-04-18T15:09:37.538701Z",
     "shell.execute_reply": "2023-04-18T15:09:37.537518Z"
    },
    "papermill": {
     "duration": 0.478268,
     "end_time": "2023-04-18T15:09:37.541556",
     "exception": false,
     "start_time": "2023-04-18T15:09:37.063288",
     "status": "completed"
    },
    "tags": []
   },
   "outputs": [],
   "source": [
    "p = '/kaggle/input/tlvmc-parkinsons-freezing-gait-prediction/'\n",
    "\n",
    "train = glob.glob(p+'train/**/**')\n",
    "test = glob.glob(p+'test/**/**')\n",
    "subjects = pd.read_csv(p+'subjects.csv')\n",
    "tasks = pd.read_csv(p+'tasks.csv')\n",
    "sub = pd.read_csv(p+'sample_submission.csv')"
   ]
  },
  {
   "cell_type": "code",
   "execution_count": 4,
   "id": "ecf86e83",
   "metadata": {
    "execution": {
     "iopub.execute_input": "2023-04-18T15:09:37.550213Z",
     "iopub.status.busy": "2023-04-18T15:09:37.549811Z",
     "iopub.status.idle": "2023-04-18T15:09:37.721101Z",
     "shell.execute_reply": "2023-04-18T15:09:37.719661Z"
    },
    "papermill": {
     "duration": 0.179517,
     "end_time": "2023-04-18T15:09:37.724530",
     "exception": false,
     "start_time": "2023-04-18T15:09:37.545013",
     "status": "completed"
    },
    "tags": []
   },
   "outputs": [],
   "source": [
    "tasks['Duration'] = tasks['End'] - tasks['Begin']\n",
    "tasks = pd.pivot_table(tasks, values=['Duration'], index=['Id'], columns=['Task'], aggfunc='sum', fill_value=0)\n",
    "tasks.columns = [c[-1] for c in tasks.columns]\n",
    "tasks = tasks.reset_index()\n",
    "tasks['t_kmeans'] = cluster.KMeans(n_clusters=10, random_state=3).fit_predict(tasks[tasks.columns[1:]])\n",
    "\n",
    "subjects = subjects.fillna(0).groupby('Subject').median()\n",
    "subjects = subjects.reset_index()\n",
    "subjects.rename(columns={'Subject':'Id'}, inplace=True)\n",
    "subjects['s_kmeans'] = cluster.KMeans(n_clusters=10, random_state=3).fit_predict(subjects[subjects.columns[1:]])"
   ]
  },
  {
   "cell_type": "code",
   "execution_count": 5,
   "id": "371f35d6",
   "metadata": {
    "execution": {
     "iopub.execute_input": "2023-04-18T15:09:37.734564Z",
     "iopub.status.busy": "2023-04-18T15:09:37.733217Z",
     "iopub.status.idle": "2023-04-18T15:10:37.365984Z",
     "shell.execute_reply": "2023-04-18T15:10:37.364474Z"
    },
    "papermill": {
     "duration": 59.640534,
     "end_time": "2023-04-18T15:10:37.369095",
     "exception": false,
     "start_time": "2023-04-18T15:09:37.728561",
     "status": "completed"
    },
    "tags": []
   },
   "outputs": [
    {
     "name": "stdout",
     "output_type": "stream",
     "text": [
      "(20588374, 9)\n"
     ]
    }
   ],
   "source": [
    "def reader(f):\n",
    "    try:\n",
    "        df = pd.read_csv(f, usecols=['Time', 'AccV', 'AccML', 'AccAP', 'StartHesitation', 'Turn' , 'Walking'])\n",
    "        df['Id'] = f.split('/')[-1].split('.')[0]\n",
    "        df['data_type'] = f.split('/')[-2]\n",
    "        df = df.fillna(99)\n",
    "        return df\n",
    "    except: pass\n",
    "train = pd.concat([reader(f) for f in train]).fillna(0); print(train.shape)\n",
    "train['data_type'] = np.where(train['data_type'] != 'defog', 0, 1)\n",
    "cols = [c for c in train.columns if c not in ['Id', 'StartHesitation', 'Turn' , 'Walking', 'Valid', 'Task','Event']]\n",
    "pcols = ['StartHesitation', 'Turn' , 'Walking']\n",
    "scols = ['Id', 'StartHesitation', 'Turn' , 'Walking']"
   ]
  },
  {
   "cell_type": "code",
   "execution_count": 6,
   "id": "c93fabb3",
   "metadata": {
    "execution": {
     "iopub.execute_input": "2023-04-18T15:10:37.378074Z",
     "iopub.status.busy": "2023-04-18T15:10:37.377673Z",
     "iopub.status.idle": "2023-04-18T15:10:37.409293Z",
     "shell.execute_reply": "2023-04-18T15:10:37.407954Z"
    },
    "papermill": {
     "duration": 0.039341,
     "end_time": "2023-04-18T15:10:37.412001",
     "exception": false,
     "start_time": "2023-04-18T15:10:37.372660",
     "status": "completed"
    },
    "tags": []
   },
   "outputs": [
    {
     "data": {
      "text/html": [
       "<div>\n",
       "<style scoped>\n",
       "    .dataframe tbody tr th:only-of-type {\n",
       "        vertical-align: middle;\n",
       "    }\n",
       "\n",
       "    .dataframe tbody tr th {\n",
       "        vertical-align: top;\n",
       "    }\n",
       "\n",
       "    .dataframe thead th {\n",
       "        text-align: right;\n",
       "    }\n",
       "</style>\n",
       "<table border=\"1\" class=\"dataframe\">\n",
       "  <thead>\n",
       "    <tr style=\"text-align: right;\">\n",
       "      <th></th>\n",
       "      <th>Time</th>\n",
       "      <th>AccV</th>\n",
       "      <th>AccML</th>\n",
       "      <th>AccAP</th>\n",
       "      <th>StartHesitation</th>\n",
       "      <th>Turn</th>\n",
       "      <th>Walking</th>\n",
       "      <th>Id</th>\n",
       "      <th>data_type</th>\n",
       "    </tr>\n",
       "  </thead>\n",
       "  <tbody>\n",
       "    <tr>\n",
       "      <th>0</th>\n",
       "      <td>0</td>\n",
       "      <td>-1.002697</td>\n",
       "      <td>0.022371</td>\n",
       "      <td>0.068304</td>\n",
       "      <td>0</td>\n",
       "      <td>0</td>\n",
       "      <td>0</td>\n",
       "      <td>be9d33541d</td>\n",
       "      <td>1</td>\n",
       "    </tr>\n",
       "    <tr>\n",
       "      <th>1</th>\n",
       "      <td>1</td>\n",
       "      <td>-1.002641</td>\n",
       "      <td>0.019173</td>\n",
       "      <td>0.066162</td>\n",
       "      <td>0</td>\n",
       "      <td>0</td>\n",
       "      <td>0</td>\n",
       "      <td>be9d33541d</td>\n",
       "      <td>1</td>\n",
       "    </tr>\n",
       "    <tr>\n",
       "      <th>2</th>\n",
       "      <td>2</td>\n",
       "      <td>-0.999820</td>\n",
       "      <td>0.019142</td>\n",
       "      <td>0.067536</td>\n",
       "      <td>0</td>\n",
       "      <td>0</td>\n",
       "      <td>0</td>\n",
       "      <td>be9d33541d</td>\n",
       "      <td>1</td>\n",
       "    </tr>\n",
       "    <tr>\n",
       "      <th>3</th>\n",
       "      <td>3</td>\n",
       "      <td>-0.998023</td>\n",
       "      <td>0.018378</td>\n",
       "      <td>0.068409</td>\n",
       "      <td>0</td>\n",
       "      <td>0</td>\n",
       "      <td>0</td>\n",
       "      <td>be9d33541d</td>\n",
       "      <td>1</td>\n",
       "    </tr>\n",
       "    <tr>\n",
       "      <th>4</th>\n",
       "      <td>4</td>\n",
       "      <td>-0.998359</td>\n",
       "      <td>0.016726</td>\n",
       "      <td>0.066448</td>\n",
       "      <td>0</td>\n",
       "      <td>0</td>\n",
       "      <td>0</td>\n",
       "      <td>be9d33541d</td>\n",
       "      <td>1</td>\n",
       "    </tr>\n",
       "    <tr>\n",
       "      <th>...</th>\n",
       "      <td>...</td>\n",
       "      <td>...</td>\n",
       "      <td>...</td>\n",
       "      <td>...</td>\n",
       "      <td>...</td>\n",
       "      <td>...</td>\n",
       "      <td>...</td>\n",
       "      <td>...</td>\n",
       "      <td>...</td>\n",
       "    </tr>\n",
       "    <tr>\n",
       "      <th>5153</th>\n",
       "      <td>5153</td>\n",
       "      <td>-9.915920</td>\n",
       "      <td>-0.105897</td>\n",
       "      <td>-1.123455</td>\n",
       "      <td>0</td>\n",
       "      <td>0</td>\n",
       "      <td>0</td>\n",
       "      <td>0506d9a39f</td>\n",
       "      <td>0</td>\n",
       "    </tr>\n",
       "    <tr>\n",
       "      <th>5154</th>\n",
       "      <td>5154</td>\n",
       "      <td>-9.693752</td>\n",
       "      <td>-0.066892</td>\n",
       "      <td>-1.114903</td>\n",
       "      <td>0</td>\n",
       "      <td>0</td>\n",
       "      <td>0</td>\n",
       "      <td>0506d9a39f</td>\n",
       "      <td>0</td>\n",
       "    </tr>\n",
       "    <tr>\n",
       "      <th>5155</th>\n",
       "      <td>5155</td>\n",
       "      <td>-9.548118</td>\n",
       "      <td>-0.098315</td>\n",
       "      <td>-1.112123</td>\n",
       "      <td>0</td>\n",
       "      <td>0</td>\n",
       "      <td>0</td>\n",
       "      <td>0506d9a39f</td>\n",
       "      <td>0</td>\n",
       "    </tr>\n",
       "    <tr>\n",
       "      <th>5156</th>\n",
       "      <td>5156</td>\n",
       "      <td>-9.469803</td>\n",
       "      <td>-0.111004</td>\n",
       "      <td>-1.130814</td>\n",
       "      <td>0</td>\n",
       "      <td>0</td>\n",
       "      <td>0</td>\n",
       "      <td>0506d9a39f</td>\n",
       "      <td>0</td>\n",
       "    </tr>\n",
       "    <tr>\n",
       "      <th>5157</th>\n",
       "      <td>5157</td>\n",
       "      <td>-9.566318</td>\n",
       "      <td>-0.113865</td>\n",
       "      <td>-1.103353</td>\n",
       "      <td>0</td>\n",
       "      <td>0</td>\n",
       "      <td>0</td>\n",
       "      <td>0506d9a39f</td>\n",
       "      <td>0</td>\n",
       "    </tr>\n",
       "  </tbody>\n",
       "</table>\n",
       "<p>20588374 rows × 9 columns</p>\n",
       "</div>"
      ],
      "text/plain": [
       "      Time      AccV     AccML     AccAP  StartHesitation  Turn  Walking  \\\n",
       "0        0 -1.002697  0.022371  0.068304                0     0        0   \n",
       "1        1 -1.002641  0.019173  0.066162                0     0        0   \n",
       "2        2 -0.999820  0.019142  0.067536                0     0        0   \n",
       "3        3 -0.998023  0.018378  0.068409                0     0        0   \n",
       "4        4 -0.998359  0.016726  0.066448                0     0        0   \n",
       "...    ...       ...       ...       ...              ...   ...      ...   \n",
       "5153  5153 -9.915920 -0.105897 -1.123455                0     0        0   \n",
       "5154  5154 -9.693752 -0.066892 -1.114903                0     0        0   \n",
       "5155  5155 -9.548118 -0.098315 -1.112123                0     0        0   \n",
       "5156  5156 -9.469803 -0.111004 -1.130814                0     0        0   \n",
       "5157  5157 -9.566318 -0.113865 -1.103353                0     0        0   \n",
       "\n",
       "              Id  data_type  \n",
       "0     be9d33541d          1  \n",
       "1     be9d33541d          1  \n",
       "2     be9d33541d          1  \n",
       "3     be9d33541d          1  \n",
       "4     be9d33541d          1  \n",
       "...          ...        ...  \n",
       "5153  0506d9a39f          0  \n",
       "5154  0506d9a39f          0  \n",
       "5155  0506d9a39f          0  \n",
       "5156  0506d9a39f          0  \n",
       "5157  0506d9a39f          0  \n",
       "\n",
       "[20588374 rows x 9 columns]"
      ]
     },
     "execution_count": 6,
     "metadata": {},
     "output_type": "execute_result"
    }
   ],
   "source": [
    "train"
   ]
  },
  {
   "cell_type": "code",
   "execution_count": 7,
   "id": "722e9ac0",
   "metadata": {
    "execution": {
     "iopub.execute_input": "2023-04-18T15:10:37.421379Z",
     "iopub.status.busy": "2023-04-18T15:10:37.420957Z",
     "iopub.status.idle": "2023-04-18T15:10:37.429657Z",
     "shell.execute_reply": "2023-04-18T15:10:37.428591Z"
    },
    "papermill": {
     "duration": 0.016065,
     "end_time": "2023-04-18T15:10:37.431995",
     "exception": false,
     "start_time": "2023-04-18T15:10:37.415930",
     "status": "completed"
    },
    "tags": []
   },
   "outputs": [
    {
     "data": {
      "text/plain": [
       "['Time', 'AccV', 'AccML', 'AccAP', 'data_type']"
      ]
     },
     "execution_count": 7,
     "metadata": {},
     "output_type": "execute_result"
    }
   ],
   "source": [
    "cols"
   ]
  },
  {
   "cell_type": "code",
   "execution_count": 8,
   "id": "4add4dc8",
   "metadata": {
    "execution": {
     "iopub.execute_input": "2023-04-18T15:10:37.442146Z",
     "iopub.status.busy": "2023-04-18T15:10:37.441221Z",
     "iopub.status.idle": "2023-04-18T15:13:28.505276Z",
     "shell.execute_reply": "2023-04-18T15:13:28.503989Z"
    },
    "papermill": {
     "duration": 171.075217,
     "end_time": "2023-04-18T15:13:28.511177",
     "exception": false,
     "start_time": "2023-04-18T15:10:37.435960",
     "status": "completed"
    },
    "tags": []
   },
   "outputs": [
    {
     "name": "stdout",
     "output_type": "stream",
     "text": [
      "0.2651249814337529\n"
     ]
    }
   ],
   "source": [
    "x1, x2, y1, y2 = model_selection.train_test_split(train[cols], train[pcols], test_size=.30, random_state=3, stratify=train[pcols])\n",
    "del train\n",
    "reg = ensemble.ExtraTreesRegressor(n_estimators=100, max_depth=4, max_features = 'sqrt', n_jobs=-1, random_state=3)\n",
    "reg.fit(x1[:5_000_000],y1[:5_000_000])\n",
    "print(metrics.average_precision_score(y2, reg.predict(x2).clip(0.0,1.0)))"
   ]
  },
  {
   "cell_type": "code",
   "execution_count": 9,
   "id": "10733f53",
   "metadata": {
    "execution": {
     "iopub.execute_input": "2023-04-18T15:13:28.521204Z",
     "iopub.status.busy": "2023-04-18T15:13:28.520772Z",
     "iopub.status.idle": "2023-04-18T15:13:31.637020Z",
     "shell.execute_reply": "2023-04-18T15:13:31.635892Z"
    },
    "papermill": {
     "duration": 3.12453,
     "end_time": "2023-04-18T15:13:31.639732",
     "exception": false,
     "start_time": "2023-04-18T15:13:28.515202",
     "status": "completed"
    },
    "tags": []
   },
   "outputs": [],
   "source": [
    "sub['t'] = 0\n",
    "submission = []\n",
    "for f in test:\n",
    "    df = pd.read_csv(f)\n",
    "    df['Id'] = f.split('/')[-1].split('.')[0]\n",
    "    df['data_type'] = f.split('/')[-2]\n",
    "    df['data_type'] = np.where(df['data_type'] != 'defog', 0, 1)       \n",
    "    df = df.fillna(0).reset_index(drop=True)\n",
    "    df = df.fillna(99)\n",
    "    res = pd.DataFrame(reg.predict(df[cols]).clip(0.0,1.0), columns=pcols)\n",
    "    df = pd.concat([df,res], axis=1)\n",
    "    df['Id'] = df['Id'].astype(str) + '_' + df['Time'].astype(str)\n",
    "    submission.append(df[scols])\n",
    "submission = pd.concat(submission)\n",
    "submission = pd.merge(sub[['Id','t']], submission, how='left', on='Id').fillna(0.0)\n",
    "submission[scols].to_csv('submission.csv', index=False)"
   ]
  },
  {
   "cell_type": "code",
   "execution_count": null,
   "id": "1085eb0a",
   "metadata": {
    "papermill": {
     "duration": 0.003796,
     "end_time": "2023-04-18T15:13:31.647874",
     "exception": false,
     "start_time": "2023-04-18T15:13:31.644078",
     "status": "completed"
    },
    "tags": []
   },
   "outputs": [],
   "source": []
  }
 ],
 "metadata": {
  "kernelspec": {
   "display_name": "Python 3",
   "language": "python",
   "name": "python3"
  },
  "language_info": {
   "codemirror_mode": {
    "name": "ipython",
    "version": 3
   },
   "file_extension": ".py",
   "mimetype": "text/x-python",
   "name": "python",
   "nbconvert_exporter": "python",
   "pygments_lexer": "ipython3",
   "version": "3.7.12"
  },
  "papermill": {
   "default_parameters": {},
   "duration": 280.964778,
   "end_time": "2023-04-18T15:13:32.880038",
   "environment_variables": {},
   "exception": null,
   "input_path": "__notebook__.ipynb",
   "output_path": "__notebook__.ipynb",
   "parameters": {},
   "start_time": "2023-04-18T15:08:51.915260",
   "version": "2.4.0"
  }
 },
 "nbformat": 4,
 "nbformat_minor": 5
}
