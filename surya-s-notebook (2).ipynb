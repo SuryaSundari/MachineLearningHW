{
 "cells": [
  {
   "cell_type": "code",
   "execution_count": 15,
   "metadata": {
    "_cell_guid": "b1076dfc-b9ad-4769-8c92-a6c4dae69d19",
    "_uuid": "8f2839f25d086af736a60e9eeb907d3b93b6e0e5",
    "execution": {
     "iopub.execute_input": "2023-04-17T02:45:11.546828Z",
     "iopub.status.busy": "2023-04-17T02:45:11.546385Z",
     "iopub.status.idle": "2023-04-17T02:45:11.555058Z",
     "shell.execute_reply": "2023-04-17T02:45:11.553066Z",
     "shell.execute_reply.started": "2023-04-17T02:45:11.546774Z"
    },
    "papermill": {
     "duration": 1.362781,
     "end_time": "2023-03-18T04:11:41.2438",
     "exception": false,
     "start_time": "2023-03-18T04:11:39.881019",
     "status": "completed"
    },
    "tags": []
   },
   "outputs": [],
   "source": [
    "import os, gc\n",
    "import numpy as np\n",
    "import pandas as pd\n",
    "from collections import deque\n",
    "from sklearn.linear_model import Ridge\n",
    "from sklearn.cluster import MiniBatchKMeans\n",
    "from sklearn.decomposition import TruncatedSVD"
   ]
  },
  {
   "cell_type": "code",
   "execution_count": 16,
   "metadata": {
    "execution": {
     "iopub.execute_input": "2023-04-17T02:45:12.345114Z",
     "iopub.status.busy": "2023-04-17T02:45:12.344636Z",
     "iopub.status.idle": "2023-04-17T02:45:12.355769Z",
     "shell.execute_reply": "2023-04-17T02:45:12.354549Z",
     "shell.execute_reply.started": "2023-04-17T02:45:12.345072Z"
    },
    "papermill": {
     "duration": 0.111312,
     "end_time": "2023-03-18T04:11:41.389306",
     "exception": false,
     "start_time": "2023-03-18T04:11:41.277994",
     "status": "completed"
    },
    "tags": []
   },
   "outputs": [],
   "source": [
    "import os, gc\n",
    "import numpy as np\n",
    "import pandas as pd\n",
    "from collections import deque\n",
    "from sklearn.linear_model import Ridge\n",
    "from sklearn.cluster import MiniBatchKMeans\n",
    "from sklearn.decomposition import TruncatedSVD"
   ]
  },
  {
   "cell_type": "code",
   "execution_count": 17,
   "metadata": {
    "execution": {
     "iopub.execute_input": "2023-04-17T02:45:13.119211Z",
     "iopub.status.busy": "2023-04-17T02:45:13.117979Z",
     "iopub.status.idle": "2023-04-17T02:45:13.127651Z",
     "shell.execute_reply": "2023-04-17T02:45:13.126549Z",
     "shell.execute_reply.started": "2023-04-17T02:45:13.119136Z"
    },
    "papermill": {
     "duration": 0.023268,
     "end_time": "2023-03-18T04:11:41.445461",
     "exception": false,
     "start_time": "2023-03-18T04:11:41.422193",
     "status": "completed"
    },
    "tags": []
   },
   "outputs": [
    {
     "data": {
      "text/plain": [
       "set()"
      ]
     },
     "execution_count": 17,
     "metadata": {},
     "output_type": "execute_result"
    }
   ],
   "source": [
    "set(train_defog) & set(train_tdcsfog)"
   ]
  },
  {
   "cell_type": "code",
   "execution_count": 18,
   "metadata": {
    "execution": {
     "iopub.execute_input": "2023-04-17T02:45:15.309574Z",
     "iopub.status.busy": "2023-04-17T02:45:15.308890Z",
     "iopub.status.idle": "2023-04-17T02:45:15.314660Z",
     "shell.execute_reply": "2023-04-17T02:45:15.313569Z",
     "shell.execute_reply.started": "2023-04-17T02:45:15.309534Z"
    },
    "papermill": {
     "duration": 0.021432,
     "end_time": "2023-03-18T04:11:41.498416",
     "exception": false,
     "start_time": "2023-03-18T04:11:41.476984",
     "status": "completed"
    },
    "tags": []
   },
   "outputs": [],
   "source": [
    "if len(set(test_defog) & set(test_tdcsfog)) > 0: # is there?\n",
    "    test_tdcsfog = list(set(test_tdcsfog) - (set(test_defog) & set(test_tdcsfog)))"
   ]
  },
  {
   "cell_type": "code",
   "execution_count": 19,
   "metadata": {
    "execution": {
     "iopub.execute_input": "2023-04-17T02:45:17.710057Z",
     "iopub.status.busy": "2023-04-17T02:45:17.709651Z",
     "iopub.status.idle": "2023-04-17T02:45:17.743537Z",
     "shell.execute_reply": "2023-04-17T02:45:17.742131Z",
     "shell.execute_reply.started": "2023-04-17T02:45:17.710022Z"
    },
    "papermill": {
     "duration": 0.062608,
     "end_time": "2023-03-18T04:11:41.593524",
     "exception": false,
     "start_time": "2023-03-18T04:11:41.530916",
     "status": "completed"
    },
    "tags": []
   },
   "outputs": [
    {
     "data": {
      "text/plain": [
       "31"
      ]
     },
     "execution_count": 19,
     "metadata": {},
     "output_type": "execute_result"
    }
   ],
   "source": [
    "task = pd.read_csv(path + \"tasks.csv\")\n",
    "task_map = {t:i+1 for i,t in enumerate(sorted(list(set(task.Task.values))))}\n",
    "task[\"TaskId\"] = task.Task.apply(lambda x:task_map[x])\n",
    "events = pd.read_csv(path + \"events.csv\")\n",
    "events = events[events.Kinetic==1]\n",
    "subjects = pd.read_csv(path + \"subjects.csv\")\n",
    "subjects[\"SexId\"] = subjects['Sex'].map( {'female': 1, 'male': 0}.astype(int)\n",
    "subjects = subjects.fillna(0)\n",
    "subjects = subjects.drop([\"Sex\"], axis=1)\n",
    "len(set(task_map.values()))"
   ]
  },
  {
   "cell_type": "code",
   "execution_count": 20,
   "metadata": {
    "execution": {
     "iopub.execute_input": "2023-04-17T02:45:18.318841Z",
     "iopub.status.busy": "2023-04-17T02:45:18.317273Z",
     "iopub.status.idle": "2023-04-17T02:45:18.350338Z",
     "shell.execute_reply": "2023-04-17T02:45:18.348936Z",
     "shell.execute_reply.started": "2023-04-17T02:45:18.318769Z"
    }
   },
   "outputs": [
    {
     "data": {
      "text/plain": [
       "[             Id Subject  Visit  MedicationId\n",
       " 0    02ab235146  ab54e1      2             1\n",
       " 1    02ea782681  bf608b      2             1\n",
       " 2    06414383cf  c0b71e      2             0\n",
       " 3    092b4c1819  b6a627      1             0\n",
       " 4    0a900ed8a2  b7bd52      2             1\n",
       " ..          ...     ...    ...           ...\n",
       " 132  f3a921edee  ce8b0b      1             0\n",
       " 133  f40e8c6ebe  d9529b      1             0\n",
       " 134  f8ddbdd98d  fc1e1b      1             1\n",
       " 135  f9efef91fb  fe5d84      2             0\n",
       " 136  f9fc61ce85  a7d8c0      1             1\n",
       " \n",
       " [137 rows x 4 columns],\n",
       "              Id Subject  Visit  Test  MedicationId\n",
       " 0    003f117e14  13abfd      3     2             1\n",
       " 1    009ee11563  d81e3a      4     2             1\n",
       " 2    011322847a  203e85      2     2             1\n",
       " 3    01d0fe7266  203e85      2     1             0\n",
       " 4    024418ba39  cecfb8     19     3             1\n",
       " ..          ...     ...    ...   ...           ...\n",
       " 828  feba449e1a  47860d     19     1             1\n",
       " 829  ff4f844fd3  43fcae      2     3             1\n",
       " 830  ff53514514  a2a051      2     3             1\n",
       " 831  ff92d9244d  a9e866     20     2             1\n",
       " 832  ffda8fadfd  bae0ce     20     1             0\n",
       " \n",
       " [833 rows x 5 columns]]"
      ]
     },
     "execution_count": 20,
     "metadata": {},
     "output_type": "execute_result"
    }
   ],
   "source": [
    "metadata = [pd.read_csv(path + \"defog_metadata.csv\"),\n",
    "            pd.read_csv(path + \"tdcsfog_metadata.csv\")]\n",
    "metadata[0][\"MedicationId\"] = metadata[0].Medication.map( {'on': 1, 'off': 0} ).astype(int)\n",
    "metadata[0] = metadata[0].drop([\"Medication\"], axis=1)\n",
    "metadata[1][\"MedicationId\"] = (metadata[1].Medication.map( {'on': 1, 'off': 0} ).astype(int)\n",
    "metadata[1] = metadata[1].drop([\"Medication\"], axis=1)"
   ]
  },
  {
   "cell_type": "code",
   "execution_count": 21,
   "metadata": {
    "execution": {
     "iopub.execute_input": "2023-04-17T02:45:20.399234Z",
     "iopub.status.busy": "2023-04-17T02:45:20.398810Z",
     "iopub.status.idle": "2023-04-17T02:45:20.411249Z",
     "shell.execute_reply": "2023-04-17T02:45:20.409141Z",
     "shell.execute_reply.started": "2023-04-17T02:45:20.399199Z"
    }
   },
   "outputs": [
    {
     "data": {
      "text/plain": [
       "['Visit',\n",
       " 'Age',\n",
       " 'YearsSinceDx',\n",
       " 'UPDRSIII_On',\n",
       " 'UPDRSIII_Off',\n",
       " 'NFOGQ',\n",
       " 'SexId']"
      ]
     },
     "execution_count": 21,
     "metadata": {},
     "output_type": "execute_result"
    }
   ],
   "source": [
    "ext_columns = list(subjects.columns)[1:]\n",
    "ext_columns"
   ]
  },
  {
   "cell_type": "code",
   "execution_count": 22,
   "metadata": {
    "execution": {
     "iopub.execute_input": "2023-04-17T02:45:24.839567Z",
     "iopub.status.busy": "2023-04-17T02:45:24.839126Z",
     "iopub.status.idle": "2023-04-17T02:45:24.855892Z",
     "shell.execute_reply": "2023-04-17T02:45:24.854537Z",
     "shell.execute_reply.started": "2023-04-17T02:45:24.839532Z"
    },
    "papermill": {
     "duration": 0.025351,
     "end_time": "2023-03-18T04:11:41.651985",
     "exception": false,
     "start_time": "2023-03-18T04:11:41.626634",
     "status": "completed"
    },
    "tags": []
   },
   "outputs": [],
   "source": [
    "def read_csv_with_task(csv):\n",
    "    global task, events, defog_metadata, tdcsfog_metadata\n",
    "    fn = csv.split(\"/\")[-1]\n",
    "    idf = fn.split(\".\")[0]\n",
    "    tdf = task[task.Id==idf]\n",
    "    edf = events[events.Id==idf]\n",
    "    df = pd.read_csv(csv)\n",
    "    taskids = np.zeros(len(df), dtype=np.uint8)\n",
    "    for b,e,t in zip(tdf.Begin,tdf.End,tdf.TaskId):\n",
    "        taskids[int(b):int(e)] = t\n",
    "    for b,e,t in zip(edf.Init,edf.Completion,edf.Type):\n",
    "        if t==\"Turn\":\n",
    "            taskids[int(b):int(e)] = taskids[int(b):int(e)] + 32\n",
    "        else:\n",
    "            taskids[int(b):int(e)] = taskids[int(b):int(e)] + 64\n",
    "    df[\"TaskId\"] = taskids\n",
    "    met = metadata[0 if \"defog\" in csv else 1]\n",
    "    subId = met[met.Id==idf].values.flatten()[1]\n",
    "    sub = subjects[subjects.Subject==subId].mean().values.astype(np.uint8)\n",
    "    for i,c in enumerate(ext_columns):\n",
    "        df[c] = sub[i]\n",
    "    return df"
   ]
  },
  {
   "cell_type": "code",
   "execution_count": 23,
   "metadata": {
    "execution": {
     "iopub.execute_input": "2023-04-17T02:45:28.486497Z",
     "iopub.status.busy": "2023-04-17T02:45:28.486065Z",
     "iopub.status.idle": "2023-04-17T02:45:28.492509Z",
     "shell.execute_reply": "2023-04-17T02:45:28.490974Z",
     "shell.execute_reply.started": "2023-04-17T02:45:28.486463Z"
    },
    "papermill": {
     "duration": 0.021245,
     "end_time": "2023-03-18T04:11:41.705779",
     "exception": false,
     "start_time": "2023-03-18T04:11:41.684534",
     "status": "completed"
    },
    "tags": []
   },
   "outputs": [],
   "source": [
    "target_cols = [\"StartHesitation\",\"Turn\",\"Walking\"]\n",
    "train_cols = [\"Time\",\"AccV\",\"AccML\",\"AccAP\",\"TaskId\"]"
   ]
  },
  {
   "cell_type": "code",
   "execution_count": 24,
   "metadata": {
    "execution": {
     "iopub.execute_input": "2023-04-17T02:45:33.790742Z",
     "iopub.status.busy": "2023-04-17T02:45:33.790324Z",
     "iopub.status.idle": "2023-04-17T02:45:33.823054Z",
     "shell.execute_reply": "2023-04-17T02:45:33.821532Z",
     "shell.execute_reply.started": "2023-04-17T02:45:33.790707Z"
    },
    "papermill": {
     "duration": 0.052851,
     "end_time": "2023-03-18T04:11:41.79051",
     "exception": false,
     "start_time": "2023-03-18T04:11:41.737659",
     "status": "completed"
    },
    "tags": []
   },
   "outputs": [],
   "source": [
    "def feature_engineering(val, clfs, target=None):\n",
    "    # Cluster and Dimensional mapping analysis for each data\n",
    "    if clfs[0] is None:\n",
    "        clfs[0] = MiniBatchKMeans(n_clusters=8, random_state=0, init=\"random\").fit(val[:,1:4])\n",
    "    km = clfs[0].predict(val[:,1:4])\n",
    "    km_oh = np.zeros((val.shape[0],8), dtype=np.uint8) # discrete value change to One-hot\n",
    "    for i in range(8):\n",
    "        idx = np.where(km==0)[0]\n",
    "        km_oh[idx,i] = 1\n",
    "    if clfs[1] is None:\n",
    "        clfs[1] = TruncatedSVD(n_components=2, n_iter=10, random_state=0).fit(val[:,1:4])\n",
    "    svd = clfs[1].transform(val[:,1:4])\n",
    "    # Per-user statistics\n",
    "    print(\"Per-user statistics\")\n",
    "    cp = 0\n",
    "    sp = 0\n",
    "    usrm = np.zeros((val.shape[0], 5*val.shape[1]-10), dtype=np.float16)\n",
    "    for i in range(val.shape[0]):\n",
    "        if cp > val[i,0]:\n",
    "            for t in range(val.shape[1]-2):\n",
    "                usrm[sp:i,5*t] = np.mean(val[sp:i,t+1])\n",
    "                usrm[sp:i,5*t+1] = np.std(val[sp:i,t+1])\n",
    "                usrm[sp:i,5*t+2] = np.max(val[sp:i,t+1])\n",
    "                usrm[sp:i,5*t+3] = np.min(val[sp:i,t+1])\n",
    "                usrm[sp:i,5*t+4] = (i-sp)/val.shape[0]\n",
    "            sp = i\n",
    "        cp = val[i,0]\n",
    "    for t in range(val.shape[1]-2):\n",
    "        usrm[sp:,5*t] = np.mean(val[sp:,t+1])\n",
    "        usrm[sp:,5*t+1] = np.std(val[sp:,t+1])\n",
    "        usrm[sp:,5*t+2] = np.max(val[sp:,t+1])\n",
    "        usrm[sp:,5*t+3] = np.min(val[sp:,t+1])\n",
    "        usrm[sp:,5*t+4] = (val.shape[0]-sp)/val.shape[0]\n",
    "    iskinetic = np.stack([(val[:,4]>=32).astype(np.uint8), (val[:,4]>=64).astype(np.uint8)]).transpose((1,0))\n",
    "    # Cluster and Dimensional mapping analysis for each user/task\n",
    "    print(\"Cluster and Dimensional mapping analysis for each user/task\")\n",
    "    if clfs[2] is None:\n",
    "        clfs[2] = MiniBatchKMeans(n_clusters=8, random_state=0, init=\"random\").fit(usrm)\n",
    "    kmu = clfs[2].predict(usrm)\n",
    "    kmu_oh = np.zeros((val.shape[0],8), dtype=np.uint8) # discrete value change to One-hot\n",
    "    for i in range(8):\n",
    "        idx = np.where(kmu==0)[0]\n",
    "        kmu_oh[idx,i] = 1\n",
    "    del kmu\n",
    "    gc.collect()\n",
    "    if clfs[3] is None:\n",
    "        clfs[3] = TruncatedSVD(n_components=2, n_iter=10, random_state=0).fit(usrm)\n",
    "    svdu = clfs[3].transform(usrm)\n",
    "    gc.collect()\n",
    "    # Merge waypoints\n",
    "    marged = np.hstack([val[:,1:4],km_oh,svd])\n",
    "    # Moving average and variance within the same user\n",
    "    print(\"Moving average and variance within the same user/task\")\n",
    "    wnd = np.zeros((val.shape[0],52), dtype=np.float16)\n",
    "    cp = val[0,0]\n",
    "    window = deque([marged[0,:15]] * 5)\n",
    "    for i in range(val.shape[0]):\n",
    "        if cp > val[i,0]:\n",
    "            window = deque([marged[i,:15]] * 5)\n",
    "        else:\n",
    "            window.popleft()\n",
    "            window.append(marged[i,:15])\n",
    "        cp = val[i,0]\n",
    "        wnd[i] = np.hstack([np.mean(window, axis=0),np.std(window, axis=0),np.min(window, axis=0),np.max(window, axis=0)])\n",
    "    # Analyze the entire merge data\n",
    "    print(\"Analyze the entire merge data\")\n",
    "    usrv = np.hstack([svd,svdu])\n",
    "    if clfs[4] is None:\n",
    "        clfs[4] = [LinearRegression().fit(usrv, target[:,i]) for i in range(3)]\n",
    "    reg = np.stack([clfs[4][i].predict(usrv) for i in range(3)]).transpose((1,0))\n",
    "    del usrv\n",
    "    gc.collect()\n",
    "    if clfs[5] is None:\n",
    "        clfs[5] = TruncatedSVD(n_components=2, n_iter=10, random_state=0).fit(marged)\n",
    "    svdm = clfs[5].transform(marged)\n",
    "    # Marge all\n",
    "    return np.hstack([marged,wnd,reg,svdm,usrm,kmu_oh,svdu,iskinetic])"
   ]
  },
  {
   "cell_type": "code",
   "execution_count": 25,
   "metadata": {
    "execution": {
     "iopub.execute_input": "2023-04-17T02:45:39.372978Z",
     "iopub.status.busy": "2023-04-17T02:45:39.372531Z",
     "iopub.status.idle": "2023-04-17T02:45:39.379982Z",
     "shell.execute_reply": "2023-04-17T02:45:39.378191Z",
     "shell.execute_reply.started": "2023-04-17T02:45:39.372942Z"
    },
    "papermill": {
     "duration": 0.02404,
     "end_time": "2023-03-18T04:11:41.846528",
     "exception": false,
     "start_time": "2023-03-18T04:11:41.822488",
     "status": "completed"
    },
    "tags": []
   },
   "outputs": [],
   "source": [
    "#from sklearn.tree import DecisionTreeRegressor\n",
    "def get_regressor(totest=False):\n",
    "    return Ridge(max_iter=500,random_state=0) #DecisionTreeRegressor(max_leaf_nodes=32, random_state=0)\n",
    "\n",
    "def training(val, target):\n",
    "    return get_regressor().fit(val, target)\n",
    "\n",
    "def predict(clfs, val):\n",
    "    return clfs.predict(val)"
   ]
  },
  {
   "cell_type": "code",
   "execution_count": 26,
   "metadata": {
    "execution": {
     "iopub.execute_input": "2023-04-17T02:45:42.241486Z",
     "iopub.status.busy": "2023-04-17T02:45:42.240950Z",
     "iopub.status.idle": "2023-04-17T02:45:59.725715Z",
     "shell.execute_reply": "2023-04-17T02:45:59.723859Z",
     "shell.execute_reply.started": "2023-04-17T02:45:42.241445Z"
    },
    "papermill": {
     "duration": 35.797392,
     "end_time": "2023-03-18T04:12:17.675637",
     "exception": false,
     "start_time": "2023-03-18T04:11:41.878245",
     "status": "completed"
    },
    "tags": []
   },
   "outputs": [
    {
     "name": "stderr",
     "output_type": "stream",
     "text": [
      "/opt/conda/lib/python3.7/site-packages/ipykernel_launcher.py:19: FutureWarning: Dropping of nuisance columns in DataFrame reductions (with 'numeric_only=None') is deprecated; in a future version this will raise TypeError.  Select only valid columns before calling the reduction.\n"
     ]
    },
    {
     "data": {
      "text/plain": [
       "0"
      ]
     },
     "execution_count": 26,
     "metadata": {},
     "output_type": "execute_result"
    }
   ],
   "source": [
    "train_dfs = [read_csv_with_task(path + \"train/tdcsfog/\"+i)[train_cols+target_cols] for i in train_tdcsfog]\n",
    "train_val = [i[train_cols].values for i in train_dfs]\n",
    "train_tgt = [i[target_cols].values for i in train_dfs]\n",
    "del train_dfs\n",
    "gc.collect()"
   ]
  },
  {
   "cell_type": "code",
   "execution_count": 27,
   "metadata": {
    "execution": {
     "iopub.execute_input": "2023-04-17T02:45:59.728475Z",
     "iopub.status.busy": "2023-04-17T02:45:59.728061Z",
     "iopub.status.idle": "2023-04-17T02:46:00.604766Z",
     "shell.execute_reply": "2023-04-17T02:46:00.603409Z",
     "shell.execute_reply.started": "2023-04-17T02:45:59.728436Z"
    },
    "papermill": {
     "duration": 0.571988,
     "end_time": "2023-03-18T04:12:18.258267",
     "exception": false,
     "start_time": "2023-03-18T04:12:17.686279",
     "status": "completed"
    },
    "tags": []
   },
   "outputs": [
    {
     "data": {
      "text/plain": [
       "24"
      ]
     },
     "execution_count": 27,
     "metadata": {},
     "output_type": "execute_result"
    }
   ],
   "source": [
    "train_val = np.vstack(train_val)\n",
    "train_tgt = np.vstack(train_tgt)\n",
    "gc.collect()"
   ]
  },
  {
   "cell_type": "code",
   "execution_count": 28,
   "metadata": {
    "execution": {
     "iopub.execute_input": "2023-04-17T02:46:00.607423Z",
     "iopub.status.busy": "2023-04-17T02:46:00.606688Z",
     "iopub.status.idle": "2023-04-17T03:13:26.883855Z",
     "shell.execute_reply": "2023-04-17T03:13:26.882401Z",
     "shell.execute_reply.started": "2023-04-17T02:46:00.607381Z"
    },
    "papermill": {
     "duration": 622.398743,
     "end_time": "2023-03-18T04:22:40.668052",
     "exception": false,
     "start_time": "2023-03-18T04:12:18.269309",
     "status": "completed"
    },
    "tags": []
   },
   "outputs": [
    {
     "name": "stdout",
     "output_type": "stream",
     "text": [
      "Per-user statistics\n",
      "Cluster and Dimensional mapping analysis for each user/task\n"
     ]
    },
    {
     "name": "stderr",
     "output_type": "stream",
     "text": [
      "/opt/conda/lib/python3.7/site-packages/numpy/core/_methods.py:244: RuntimeWarning: overflow encountered in reduce\n",
      "  ret = umr_sum(x, axis, dtype, out, keepdims=keepdims, where=where)\n"
     ]
    },
    {
     "name": "stdout",
     "output_type": "stream",
     "text": [
      "Moving average and variance within the same user/task\n",
      "Analyze the entire merge data\n"
     ]
    }
   ],
   "source": [
    "defog_trans = [None, None, None, None, None ,None]\n",
    "train_val = feature_engineering(train_val, defog_trans, target=train_tgt)"
   ]
  },
  {
   "cell_type": "code",
   "execution_count": 29,
   "metadata": {
    "execution": {
     "iopub.execute_input": "2023-04-17T03:13:26.888907Z",
     "iopub.status.busy": "2023-04-17T03:13:26.887555Z",
     "iopub.status.idle": "2023-04-17T03:14:57.266672Z",
     "shell.execute_reply": "2023-04-17T03:14:57.265509Z",
     "shell.execute_reply.started": "2023-04-17T03:13:26.888851Z"
    },
    "papermill": {
     "duration": 419.844363,
     "end_time": "2023-03-18T04:29:40.547215",
     "exception": false,
     "start_time": "2023-03-18T04:22:40.702852",
     "status": "completed"
    },
    "tags": []
   },
   "outputs": [],
   "source": [
    "train_val = train_val.astype(np.float16) # reduce memory\n",
    "gc.collect()\n",
    "defog_clf = [training(train_val,train_tgt[:,i]) for i in range(len(target_cols))]"
   ]
  },
  {
   "cell_type": "code",
   "execution_count": 30,
   "metadata": {
    "execution": {
     "iopub.execute_input": "2023-04-17T03:14:57.268659Z",
     "iopub.status.busy": "2023-04-17T03:14:57.268061Z",
     "iopub.status.idle": "2023-04-17T03:14:57.423961Z",
     "shell.execute_reply": "2023-04-17T03:14:57.422513Z",
     "shell.execute_reply.started": "2023-04-17T03:14:57.268621Z"
    },
    "papermill": {
     "duration": 0.256561,
     "end_time": "2023-03-18T04:29:40.833175",
     "exception": false,
     "start_time": "2023-03-18T04:29:40.576614",
     "status": "completed"
    },
    "tags": []
   },
   "outputs": [
    {
     "data": {
      "text/plain": [
       "24"
      ]
     },
     "execution_count": 30,
     "metadata": {},
     "output_type": "execute_result"
    }
   ],
   "source": [
    "del train_val, train_tgt, train_defog\n",
    "gc.collect()"
   ]
  },
  {
   "cell_type": "code",
   "execution_count": 31,
   "metadata": {
    "execution": {
     "iopub.execute_input": "2023-04-17T03:14:57.426335Z",
     "iopub.status.busy": "2023-04-17T03:14:57.425908Z",
     "iopub.status.idle": "2023-04-17T03:15:23.623530Z",
     "shell.execute_reply": "2023-04-17T03:15:23.620727Z",
     "shell.execute_reply.started": "2023-04-17T03:14:57.426293Z"
    },
    "papermill": {
     "duration": 45.023958,
     "end_time": "2023-03-18T04:30:25.905816",
     "exception": false,
     "start_time": "2023-03-18T04:29:40.881858",
     "status": "completed"
    },
    "tags": []
   },
   "outputs": [
    {
     "name": "stderr",
     "output_type": "stream",
     "text": [
      "/opt/conda/lib/python3.7/site-packages/ipykernel_launcher.py:19: FutureWarning: Dropping of nuisance columns in DataFrame reductions (with 'numeric_only=None') is deprecated; in a future version this will raise TypeError.  Select only valid columns before calling the reduction.\n"
     ]
    },
    {
     "data": {
      "text/plain": [
       "0"
      ]
     },
     "execution_count": 31,
     "metadata": {},
     "output_type": "execute_result"
    }
   ],
   "source": [
    "train_dfs = [read_csv_with_task(\"/kaggle/input/tlvmc-parkinsons-freezing-gait-prediction/train/tdcsfog/\"+i)[train_cols+target_cols] for i in train_tdcsfog]\n",
    "train_val = [i[train_cols].values for i in train_dfs]\n",
    "train_tgt = [i[target_cols].values for i in train_dfs]\n",
    "del train_dfs\n",
    "gc.collect()"
   ]
  },
  {
   "cell_type": "code",
   "execution_count": 32,
   "metadata": {
    "execution": {
     "iopub.execute_input": "2023-04-17T03:15:23.626663Z",
     "iopub.status.busy": "2023-04-17T03:15:23.626086Z",
     "iopub.status.idle": "2023-04-17T03:15:23.981163Z",
     "shell.execute_reply": "2023-04-17T03:15:23.979716Z",
     "shell.execute_reply.started": "2023-04-17T03:15:23.626621Z"
    },
    "papermill": {
     "duration": 0.368661,
     "end_time": "2023-03-18T04:30:26.286019",
     "exception": false,
     "start_time": "2023-03-18T04:30:25.917358",
     "status": "completed"
    },
    "tags": []
   },
   "outputs": [
    {
     "data": {
      "text/plain": [
       "24"
      ]
     },
     "execution_count": 32,
     "metadata": {},
     "output_type": "execute_result"
    }
   ],
   "source": [
    "train_val = np.vstack(train_val)\n",
    "train_tgt = np.vstack(train_tgt)\n",
    "gc.collect()"
   ]
  },
  {
   "cell_type": "code",
   "execution_count": 33,
   "metadata": {
    "execution": {
     "iopub.execute_input": "2023-04-17T03:15:23.983611Z",
     "iopub.status.busy": "2023-04-17T03:15:23.983124Z",
     "iopub.status.idle": "2023-04-17T03:29:45.703968Z",
     "shell.execute_reply": "2023-04-17T03:29:45.702573Z",
     "shell.execute_reply.started": "2023-04-17T03:15:23.983561Z"
    },
    "papermill": {
     "duration": 326.609361,
     "end_time": "2023-03-18T04:35:52.907746",
     "exception": false,
     "start_time": "2023-03-18T04:30:26.298385",
     "status": "completed"
    },
    "tags": []
   },
   "outputs": [
    {
     "name": "stdout",
     "output_type": "stream",
     "text": [
      "Per-user statistics\n",
      "Cluster and Dimensional mapping analysis for each user/task\n"
     ]
    },
    {
     "name": "stderr",
     "output_type": "stream",
     "text": [
      "/opt/conda/lib/python3.7/site-packages/numpy/core/_methods.py:212: RuntimeWarning: overflow encountered in reduce\n",
      "  arrmean = umr_sum(arr, axis, dtype, keepdims=True, where=where)\n",
      "/opt/conda/lib/python3.7/site-packages/numpy/core/_methods.py:244: RuntimeWarning: overflow encountered in reduce\n",
      "  ret = umr_sum(x, axis, dtype, out, keepdims=keepdims, where=where)\n"
     ]
    },
    {
     "name": "stdout",
     "output_type": "stream",
     "text": [
      "Moving average and variance within the same user/task\n",
      "Analyze the entire merge data\n"
     ]
    }
   ],
   "source": [
    "tdcsfog_trans = [None, None, None, None, None, None]\n",
    "train_val = feature_engineering(train_val, tdcsfog_trans, target=train_tgt)"
   ]
  },
  {
   "cell_type": "code",
   "execution_count": 34,
   "metadata": {
    "execution": {
     "iopub.execute_input": "2023-04-17T03:29:45.705956Z",
     "iopub.status.busy": "2023-04-17T03:29:45.705564Z",
     "iopub.status.idle": "2023-04-17T03:30:31.115252Z",
     "shell.execute_reply": "2023-04-17T03:30:31.113220Z",
     "shell.execute_reply.started": "2023-04-17T03:29:45.705918Z"
    },
    "papermill": {
     "duration": 198.858414,
     "end_time": "2023-03-18T04:39:11.804737",
     "exception": false,
     "start_time": "2023-03-18T04:35:52.946323",
     "status": "completed"
    },
    "tags": []
   },
   "outputs": [],
   "source": [
    "train_val = train_val.astype(np.float16) # reduce memory\n",
    "gc.collect()\n",
    "tdcsfog_clf = [training(train_val,train_tgt[:,i]) for i in range(len(target_cols))]"
   ]
  },
  {
   "cell_type": "code",
   "execution_count": 35,
   "metadata": {
    "execution": {
     "iopub.execute_input": "2023-04-17T03:30:31.129088Z",
     "iopub.status.busy": "2023-04-17T03:30:31.126000Z",
     "iopub.status.idle": "2023-04-17T03:30:31.298857Z",
     "shell.execute_reply": "2023-04-17T03:30:31.297075Z",
     "shell.execute_reply.started": "2023-04-17T03:30:31.128769Z"
    },
    "papermill": {
     "duration": 0.208209,
     "end_time": "2023-03-18T04:39:12.045445",
     "exception": false,
     "start_time": "2023-03-18T04:39:11.837236",
     "status": "completed"
    },
    "tags": []
   },
   "outputs": [
    {
     "data": {
      "text/plain": [
       "24"
      ]
     },
     "execution_count": 35,
     "metadata": {},
     "output_type": "execute_result"
    }
   ],
   "source": [
    "del train_val, train_tgt, train_tdcsfog\n",
    "gc.collect()"
   ]
  },
  {
   "cell_type": "code",
   "execution_count": 36,
   "metadata": {
    "execution": {
     "iopub.execute_input": "2023-04-17T03:30:31.302384Z",
     "iopub.status.busy": "2023-04-17T03:30:31.300692Z",
     "iopub.status.idle": "2023-04-17T03:30:31.948024Z",
     "shell.execute_reply": "2023-04-17T03:30:31.945815Z",
     "shell.execute_reply.started": "2023-04-17T03:30:31.302324Z"
    },
    "papermill": {
     "duration": 0.607926,
     "end_time": "2023-03-18T04:39:12.691058",
     "exception": false,
     "start_time": "2023-03-18T04:39:12.083132",
     "status": "completed"
    },
    "tags": []
   },
   "outputs": [
    {
     "name": "stderr",
     "output_type": "stream",
     "text": [
      "/opt/conda/lib/python3.7/site-packages/ipykernel_launcher.py:19: FutureWarning: Dropping of nuisance columns in DataFrame reductions (with 'numeric_only=None') is deprecated; in a future version this will raise TypeError.  Select only valid columns before calling the reduction.\n"
     ]
    },
    {
     "data": {
      "text/plain": [
       "24"
      ]
     },
     "execution_count": 36,
     "metadata": {},
     "output_type": "execute_result"
    }
   ],
   "source": [
    "test_dfs = [read_csv_with_task(\"/kaggle/input/tlvmc-parkinsons-freezing-gait-prediction/test/defog/\"+i)[train_cols] for i in test_defog]\n",
    "test_val = [i.values for i in test_dfs]\n",
    "gc.collect()"
   ]
  },
  {
   "cell_type": "code",
   "execution_count": 37,
   "metadata": {
    "execution": {
     "iopub.execute_input": "2023-04-17T03:30:31.951079Z",
     "iopub.status.busy": "2023-04-17T03:30:31.950160Z",
     "iopub.status.idle": "2023-04-17T03:31:01.345969Z",
     "shell.execute_reply": "2023-04-17T03:31:01.344465Z",
     "shell.execute_reply.started": "2023-04-17T03:30:31.951025Z"
    },
    "papermill": {
     "duration": 1.728185,
     "end_time": "2023-03-18T04:39:14.431828",
     "exception": false,
     "start_time": "2023-03-18T04:39:12.703643",
     "status": "completed"
    },
    "tags": []
   },
   "outputs": [
    {
     "name": "stdout",
     "output_type": "stream",
     "text": [
      "Per-user statistics\n",
      "Cluster and Dimensional mapping analysis for each user/task\n",
      "Moving average and variance within the same user/task\n",
      "Analyze the entire merge data\n"
     ]
    }
   ],
   "source": [
    "test_val = np.vstack(test_val)\n",
    "test_val = feature_engineering(test_val, defog_trans)"
   ]
  },
  {
   "cell_type": "code",
   "execution_count": 38,
   "metadata": {
    "execution": {
     "iopub.execute_input": "2023-04-17T03:31:01.348572Z",
     "iopub.status.busy": "2023-04-17T03:31:01.347880Z",
     "iopub.status.idle": "2023-04-17T03:31:02.620744Z",
     "shell.execute_reply": "2023-04-17T03:31:02.618726Z",
     "shell.execute_reply.started": "2023-04-17T03:31:01.348514Z"
    },
    "papermill": {
     "duration": 6.171498,
     "end_time": "2023-03-18T04:39:20.64999",
     "exception": false,
     "start_time": "2023-03-18T04:39:14.478492",
     "status": "completed"
    },
    "tags": []
   },
   "outputs": [],
   "source": [
    "test_val = test_val.astype(np.float16) # reduce memory\n",
    "gc.collect()\n",
    "test_defog_preds = [np.clip(predict(c, test_val), 0, 1) for i,c in enumerate(defog_clf)]"
   ]
  },
  {
   "cell_type": "code",
   "execution_count": 39,
   "metadata": {
    "execution": {
     "iopub.execute_input": "2023-04-17T03:31:02.623403Z",
     "iopub.status.busy": "2023-04-17T03:31:02.622901Z",
     "iopub.status.idle": "2023-04-17T03:31:02.875557Z",
     "shell.execute_reply": "2023-04-17T03:31:02.874326Z",
     "shell.execute_reply.started": "2023-04-17T03:31:02.623352Z"
    },
    "papermill": {
     "duration": 0.232727,
     "end_time": "2023-03-18T04:39:20.917068",
     "exception": false,
     "start_time": "2023-03-18T04:39:20.684341",
     "status": "completed"
    },
    "tags": []
   },
   "outputs": [],
   "source": [
    "defog_ids = []\n",
    "for f,d in zip(test_defog,test_dfs):\n",
    "    fid = f.split(\".\")[0]\n",
    "    for t in d.Time.values:\n",
    "        sid = f\"{fid}_{t}\"\n",
    "        defog_ids.append(sid)"
   ]
  },
  {
   "cell_type": "code",
   "execution_count": 40,
   "metadata": {
    "execution": {
     "iopub.execute_input": "2023-04-17T03:31:02.877417Z",
     "iopub.status.busy": "2023-04-17T03:31:02.876909Z",
     "iopub.status.idle": "2023-04-17T03:31:03.027082Z",
     "shell.execute_reply": "2023-04-17T03:31:03.025219Z",
     "shell.execute_reply.started": "2023-04-17T03:31:02.877363Z"
    },
    "papermill": {
     "duration": 0.153462,
     "end_time": "2023-03-18T04:39:21.083439",
     "exception": false,
     "start_time": "2023-03-18T04:39:20.929977",
     "status": "completed"
    },
    "tags": []
   },
   "outputs": [
    {
     "data": {
      "text/plain": [
       "48"
      ]
     },
     "execution_count": 40,
     "metadata": {},
     "output_type": "execute_result"
    }
   ],
   "source": [
    "del test_defog, test_dfs, test_val\n",
    "gc.collect()"
   ]
  },
  {
   "cell_type": "code",
   "execution_count": 41,
   "metadata": {
    "execution": {
     "iopub.execute_input": "2023-04-17T03:31:03.029108Z",
     "iopub.status.busy": "2023-04-17T03:31:03.028656Z",
     "iopub.status.idle": "2023-04-17T03:31:03.228921Z",
     "shell.execute_reply": "2023-04-17T03:31:03.226907Z",
     "shell.execute_reply.started": "2023-04-17T03:31:03.029069Z"
    },
    "papermill": {
     "duration": 0.181847,
     "end_time": "2023-03-18T04:39:21.304753",
     "exception": false,
     "start_time": "2023-03-18T04:39:21.122906",
     "status": "completed"
    },
    "tags": []
   },
   "outputs": [
    {
     "name": "stderr",
     "output_type": "stream",
     "text": [
      "/opt/conda/lib/python3.7/site-packages/ipykernel_launcher.py:19: FutureWarning: Dropping of nuisance columns in DataFrame reductions (with 'numeric_only=None') is deprecated; in a future version this will raise TypeError.  Select only valid columns before calling the reduction.\n"
     ]
    },
    {
     "data": {
      "text/plain": [
       "24"
      ]
     },
     "execution_count": 41,
     "metadata": {},
     "output_type": "execute_result"
    }
   ],
   "source": [
    "test_dfs = [read_csv_with_task(\"/kaggle/input/tlvmc-parkinsons-freezing-gait-prediction/test/tdcsfog/\"+i)[train_cols] for i in test_tdcsfog]\n",
    "test_val = [i.values for i in test_dfs]\n",
    "gc.collect()"
   ]
  },
  {
   "cell_type": "code",
   "execution_count": 42,
   "metadata": {
    "execution": {
     "iopub.execute_input": "2023-04-17T03:31:03.233345Z",
     "iopub.status.busy": "2023-04-17T03:31:03.232887Z",
     "iopub.status.idle": "2023-04-17T03:31:04.227568Z",
     "shell.execute_reply": "2023-04-17T03:31:04.226017Z",
     "shell.execute_reply.started": "2023-04-17T03:31:03.233306Z"
    },
    "papermill": {
     "duration": 0.570917,
     "end_time": "2023-03-18T04:39:21.888766",
     "exception": false,
     "start_time": "2023-03-18T04:39:21.317849",
     "status": "completed"
    },
    "tags": []
   },
   "outputs": [
    {
     "name": "stdout",
     "output_type": "stream",
     "text": [
      "Per-user statistics\n",
      "Cluster and Dimensional mapping analysis for each user/task\n",
      "Moving average and variance within the same user/task\n",
      "Analyze the entire merge data\n"
     ]
    }
   ],
   "source": [
    "test_val = np.vstack(test_val)\n",
    "test_val = feature_engineering(test_val, tdcsfog_trans)"
   ]
  },
  {
   "cell_type": "code",
   "execution_count": 43,
   "metadata": {
    "execution": {
     "iopub.execute_input": "2023-04-17T03:31:04.229524Z",
     "iopub.status.busy": "2023-04-17T03:31:04.229168Z",
     "iopub.status.idle": "2023-04-17T03:31:04.400765Z",
     "shell.execute_reply": "2023-04-17T03:31:04.398914Z",
     "shell.execute_reply.started": "2023-04-17T03:31:04.229493Z"
    },
    "papermill": {
     "duration": 0.325548,
     "end_time": "2023-03-18T04:39:22.25376",
     "exception": false,
     "start_time": "2023-03-18T04:39:21.928212",
     "status": "completed"
    },
    "tags": []
   },
   "outputs": [],
   "source": [
    "test_val = test_val.astype(np.float16) # reduce memory\n",
    "gc.collect()\n",
    "test_tdcsfog_preds = [np.clip(predict(c, test_val), 0, 1) for i,c in enumerate(tdcsfog_clf)]"
   ]
  },
  {
   "cell_type": "code",
   "execution_count": 44,
   "metadata": {
    "execution": {
     "iopub.execute_input": "2023-04-17T03:31:04.404856Z",
     "iopub.status.busy": "2023-04-17T03:31:04.403696Z",
     "iopub.status.idle": "2023-04-17T03:31:04.426288Z",
     "shell.execute_reply": "2023-04-17T03:31:04.424186Z",
     "shell.execute_reply.started": "2023-04-17T03:31:04.404738Z"
    },
    "papermill": {
     "duration": 0.06764,
     "end_time": "2023-03-18T04:39:22.356623",
     "exception": false,
     "start_time": "2023-03-18T04:39:22.288983",
     "status": "completed"
    },
    "tags": []
   },
   "outputs": [],
   "source": [
    "tdcsfog_ids = []\n",
    "for f,d in zip(test_tdcsfog,test_dfs):\n",
    "    fid = f.split(\".\")[0]\n",
    "    for t in d.Time.values:\n",
    "        sid = f\"{fid}_{t}\"\n",
    "        tdcsfog_ids.append(sid)"
   ]
  },
  {
   "cell_type": "code",
   "execution_count": 45,
   "metadata": {
    "execution": {
     "iopub.execute_input": "2023-04-17T03:31:04.430617Z",
     "iopub.status.busy": "2023-04-17T03:31:04.429753Z",
     "iopub.status.idle": "2023-04-17T03:31:04.620665Z",
     "shell.execute_reply": "2023-04-17T03:31:04.619121Z",
     "shell.execute_reply.started": "2023-04-17T03:31:04.430533Z"
    },
    "papermill": {
     "duration": 0.159983,
     "end_time": "2023-03-18T04:39:22.534924",
     "exception": false,
     "start_time": "2023-03-18T04:39:22.374941",
     "status": "completed"
    },
    "tags": []
   },
   "outputs": [
    {
     "data": {
      "text/plain": [
       "48"
      ]
     },
     "execution_count": 45,
     "metadata": {},
     "output_type": "execute_result"
    }
   ],
   "source": [
    "del test_tdcsfog, test_dfs, test_val\n",
    "gc.collect()"
   ]
  },
  {
   "cell_type": "code",
   "execution_count": 46,
   "metadata": {
    "execution": {
     "iopub.execute_input": "2023-04-17T03:31:04.623490Z",
     "iopub.status.busy": "2023-04-17T03:31:04.622954Z",
     "iopub.status.idle": "2023-04-17T03:31:04.713194Z",
     "shell.execute_reply": "2023-04-17T03:31:04.710087Z",
     "shell.execute_reply.started": "2023-04-17T03:31:04.623436Z"
    },
    "papermill": {
     "duration": 0.090646,
     "end_time": "2023-03-18T04:39:22.665288",
     "exception": false,
     "start_time": "2023-03-18T04:39:22.574642",
     "status": "completed"
    },
    "tags": []
   },
   "outputs": [],
   "source": [
    "all_ids = defog_ids + tdcsfog_ids\n",
    "all_starts = list(test_defog_preds[0]) + list(test_tdcsfog_preds[0])\n",
    "all_turns = list(test_defog_preds[1]) + list(test_tdcsfog_preds[1])\n",
    "all_walkings = list(test_defog_preds[2]) + list(test_tdcsfog_preds[2])"
   ]
  },
  {
   "cell_type": "code",
   "execution_count": 47,
   "metadata": {
    "execution": {
     "iopub.execute_input": "2023-04-17T03:31:04.716692Z",
     "iopub.status.busy": "2023-04-17T03:31:04.715649Z",
     "iopub.status.idle": "2023-04-17T03:31:04.980736Z",
     "shell.execute_reply": "2023-04-17T03:31:04.978768Z",
     "shell.execute_reply.started": "2023-04-17T03:31:04.716631Z"
    },
    "papermill": {
     "duration": 0.265093,
     "end_time": "2023-03-18T04:39:22.943731",
     "exception": false,
     "start_time": "2023-03-18T04:39:22.678638",
     "status": "completed"
    },
    "tags": []
   },
   "outputs": [
    {
     "data": {
      "text/html": [
       "<div>\n",
       "<style scoped>\n",
       "    .dataframe tbody tr th:only-of-type {\n",
       "        vertical-align: middle;\n",
       "    }\n",
       "\n",
       "    .dataframe tbody tr th {\n",
       "        vertical-align: top;\n",
       "    }\n",
       "\n",
       "    .dataframe thead th {\n",
       "        text-align: right;\n",
       "    }\n",
       "</style>\n",
       "<table border=\"1\" class=\"dataframe\">\n",
       "  <thead>\n",
       "    <tr style=\"text-align: right;\">\n",
       "      <th></th>\n",
       "      <th>Id</th>\n",
       "      <th>StartHesitation</th>\n",
       "      <th>Turn</th>\n",
       "      <th>Walking</th>\n",
       "    </tr>\n",
       "  </thead>\n",
       "  <tbody>\n",
       "    <tr>\n",
       "      <th>0</th>\n",
       "      <td>02ab235146_0</td>\n",
       "      <td>0.0</td>\n",
       "      <td>0.0</td>\n",
       "      <td>1.0</td>\n",
       "    </tr>\n",
       "    <tr>\n",
       "      <th>1</th>\n",
       "      <td>02ab235146_1</td>\n",
       "      <td>0.0</td>\n",
       "      <td>0.0</td>\n",
       "      <td>1.0</td>\n",
       "    </tr>\n",
       "    <tr>\n",
       "      <th>2</th>\n",
       "      <td>02ab235146_2</td>\n",
       "      <td>0.0</td>\n",
       "      <td>0.0</td>\n",
       "      <td>1.0</td>\n",
       "    </tr>\n",
       "    <tr>\n",
       "      <th>3</th>\n",
       "      <td>02ab235146_3</td>\n",
       "      <td>0.0</td>\n",
       "      <td>0.0</td>\n",
       "      <td>1.0</td>\n",
       "    </tr>\n",
       "    <tr>\n",
       "      <th>4</th>\n",
       "      <td>02ab235146_4</td>\n",
       "      <td>0.0</td>\n",
       "      <td>0.0</td>\n",
       "      <td>1.0</td>\n",
       "    </tr>\n",
       "    <tr>\n",
       "      <th>...</th>\n",
       "      <td>...</td>\n",
       "      <td>...</td>\n",
       "      <td>...</td>\n",
       "      <td>...</td>\n",
       "    </tr>\n",
       "    <tr>\n",
       "      <th>286365</th>\n",
       "      <td>003f117e14_4677</td>\n",
       "      <td>1.0</td>\n",
       "      <td>1.0</td>\n",
       "      <td>1.0</td>\n",
       "    </tr>\n",
       "    <tr>\n",
       "      <th>286366</th>\n",
       "      <td>003f117e14_4678</td>\n",
       "      <td>1.0</td>\n",
       "      <td>1.0</td>\n",
       "      <td>1.0</td>\n",
       "    </tr>\n",
       "    <tr>\n",
       "      <th>286367</th>\n",
       "      <td>003f117e14_4679</td>\n",
       "      <td>1.0</td>\n",
       "      <td>1.0</td>\n",
       "      <td>1.0</td>\n",
       "    </tr>\n",
       "    <tr>\n",
       "      <th>286368</th>\n",
       "      <td>003f117e14_4680</td>\n",
       "      <td>1.0</td>\n",
       "      <td>1.0</td>\n",
       "      <td>1.0</td>\n",
       "    </tr>\n",
       "    <tr>\n",
       "      <th>286369</th>\n",
       "      <td>003f117e14_4681</td>\n",
       "      <td>1.0</td>\n",
       "      <td>1.0</td>\n",
       "      <td>1.0</td>\n",
       "    </tr>\n",
       "  </tbody>\n",
       "</table>\n",
       "<p>286370 rows × 4 columns</p>\n",
       "</div>"
      ],
      "text/plain": [
       "                     Id  StartHesitation  Turn  Walking\n",
       "0          02ab235146_0              0.0   0.0      1.0\n",
       "1          02ab235146_1              0.0   0.0      1.0\n",
       "2          02ab235146_2              0.0   0.0      1.0\n",
       "3          02ab235146_3              0.0   0.0      1.0\n",
       "4          02ab235146_4              0.0   0.0      1.0\n",
       "...                 ...              ...   ...      ...\n",
       "286365  003f117e14_4677              1.0   1.0      1.0\n",
       "286366  003f117e14_4678              1.0   1.0      1.0\n",
       "286367  003f117e14_4679              1.0   1.0      1.0\n",
       "286368  003f117e14_4680              1.0   1.0      1.0\n",
       "286369  003f117e14_4681              1.0   1.0      1.0\n",
       "\n",
       "[286370 rows x 4 columns]"
      ]
     },
     "execution_count": 47,
     "metadata": {},
     "output_type": "execute_result"
    }
   ],
   "source": [
    "df = pd.DataFrame({\"Id\":all_ids,\"StartHesitation\":all_starts,\"Turn\":all_turns,\"Walking\":all_walkings})\n",
    "df"
   ]
  },
  {
   "cell_type": "code",
   "execution_count": 48,
   "metadata": {
    "execution": {
     "iopub.execute_input": "2023-04-17T03:31:04.983093Z",
     "iopub.status.busy": "2023-04-17T03:31:04.982604Z",
     "iopub.status.idle": "2023-04-17T03:31:05.714524Z",
     "shell.execute_reply": "2023-04-17T03:31:05.712483Z",
     "shell.execute_reply.started": "2023-04-17T03:31:04.983052Z"
    },
    "papermill": {
     "duration": 0.685153,
     "end_time": "2023-03-18T04:39:23.642534",
     "exception": false,
     "start_time": "2023-03-18T04:39:22.957381",
     "status": "completed"
    },
    "tags": []
   },
   "outputs": [],
   "source": [
    "df.to_csv(\"submission.csv\", index=False)"
   ]
  }
 ],
 "metadata": {
  "kernelspec": {
   "display_name": "Python 3 (ipykernel)",
   "language": "python",
   "name": "python3"
  },
  "language_info": {
   "codemirror_mode": {
    "name": "ipython",
    "version": 3
   },
   "file_extension": ".py",
   "mimetype": "text/x-python",
   "name": "python",
   "nbconvert_exporter": "python",
   "pygments_lexer": "ipython3",
   "version": "3.11.1"
  }
 },
 "nbformat": 4,
 "nbformat_minor": 4
}
