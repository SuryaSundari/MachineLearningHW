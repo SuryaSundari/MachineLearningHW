{
 "cells": [
  {
   "cell_type": "code",
   "execution_count": 1,
   "id": "0e01993e",
   "metadata": {
    "_cell_guid": "b1076dfc-b9ad-4769-8c92-a6c4dae69d19",
    "_uuid": "8f2839f25d086af736a60e9eeb907d3b93b6e0e5",
    "execution": {
     "iopub.execute_input": "2023-04-16T14:27:54.778343Z",
     "iopub.status.busy": "2023-04-16T14:27:54.777338Z",
     "iopub.status.idle": "2023-04-16T14:27:56.282060Z",
     "shell.execute_reply": "2023-04-16T14:27:56.280813Z"
    },
    "papermill": {
     "duration": 1.521055,
     "end_time": "2023-04-16T14:27:56.285130",
     "exception": false,
     "start_time": "2023-04-16T14:27:54.764075",
     "status": "completed"
    },
    "tags": []
   },
   "outputs": [],
   "source": [
    "import os, gc\n",
    "import numpy as np\n",
    "import pandas as pd\n",
    "import pickle\n",
    "from collections import deque\n",
    "from sklearn.linear_model import Ridge, LinearRegression\n",
    "from sklearn.cluster import MiniBatchKMeans\n",
    "from sklearn.decomposition import TruncatedSVD\n",
    "from sklearn.model_selection import StratifiedKFold, GroupKFold\n",
    "from sklearn.metrics import average_precision_score"
   ]
  },
  {
   "cell_type": "code",
   "execution_count": 2,
   "id": "67a08485",
   "metadata": {
    "execution": {
     "iopub.execute_input": "2023-04-16T14:27:56.327076Z",
     "iopub.status.busy": "2023-04-16T14:27:56.326661Z",
     "iopub.status.idle": "2023-04-16T14:27:56.404614Z",
     "shell.execute_reply": "2023-04-16T14:27:56.403632Z"
    },
    "papermill": {
     "duration": 0.092589,
     "end_time": "2023-04-16T14:27:56.407459",
     "exception": false,
     "start_time": "2023-04-16T14:27:56.314870",
     "status": "completed"
    },
    "tags": []
   },
   "outputs": [],
   "source": [
    "path = \"/kaggle/input/tlvmc-parkinsons-freezing-gait-prediction/\"\n",
    "train_defog = os.listdir(path + \"train/defog\")\n",
    "test_defog = os.listdir(path + \"test/defog\")\n",
    "train_tdcsfog = os.listdir(path + \"train/tdcsfog\")\n",
    "test_tdcsfog = os.listdir(path + \"test/tdcsfog\")"
   ]
  },
  {
   "cell_type": "code",
   "execution_count": 3,
   "id": "044fa442",
   "metadata": {
    "execution": {
     "iopub.execute_input": "2023-04-16T14:27:56.450057Z",
     "iopub.status.busy": "2023-04-16T14:27:56.449609Z",
     "iopub.status.idle": "2023-04-16T14:27:56.458905Z",
     "shell.execute_reply": "2023-04-16T14:27:56.457317Z"
    },
    "papermill": {
     "duration": 0.024081,
     "end_time": "2023-04-16T14:27:56.462333",
     "exception": false,
     "start_time": "2023-04-16T14:27:56.438252",
     "status": "completed"
    },
    "tags": []
   },
   "outputs": [
    {
     "data": {
      "text/plain": [
       "set()"
      ]
     },
     "execution_count": 3,
     "metadata": {},
     "output_type": "execute_result"
    }
   ],
   "source": [
    "set(train_defog) & set(train_tdcsfog)"
   ]
  },
  {
   "cell_type": "code",
   "execution_count": 4,
   "id": "7853bed0",
   "metadata": {
    "execution": {
     "iopub.execute_input": "2023-04-16T14:27:56.504715Z",
     "iopub.status.busy": "2023-04-16T14:27:56.504272Z",
     "iopub.status.idle": "2023-04-16T14:27:56.510200Z",
     "shell.execute_reply": "2023-04-16T14:27:56.508853Z"
    },
    "papermill": {
     "duration": 0.020408,
     "end_time": "2023-04-16T14:27:56.513066",
     "exception": false,
     "start_time": "2023-04-16T14:27:56.492658",
     "status": "completed"
    },
    "tags": []
   },
   "outputs": [],
   "source": [
    "if len(set(test_defog) & set(test_tdcsfog)) > 0: # is there?\n",
    "    test_tdcsfog = list(set(test_tdcsfog) - (set(test_defog) & set(test_tdcsfog)))"
   ]
  },
  {
   "cell_type": "code",
   "execution_count": 5,
   "id": "b60b347b",
   "metadata": {
    "execution": {
     "iopub.execute_input": "2023-04-16T14:27:56.555047Z",
     "iopub.status.busy": "2023-04-16T14:27:56.554544Z",
     "iopub.status.idle": "2023-04-16T14:27:56.620628Z",
     "shell.execute_reply": "2023-04-16T14:27:56.619643Z"
    },
    "papermill": {
     "duration": 0.080564,
     "end_time": "2023-04-16T14:27:56.623688",
     "exception": false,
     "start_time": "2023-04-16T14:27:56.543124",
     "status": "completed"
    },
    "tags": []
   },
   "outputs": [
    {
     "data": {
      "text/plain": [
       "31"
      ]
     },
     "execution_count": 5,
     "metadata": {},
     "output_type": "execute_result"
    }
   ],
   "source": [
    "task = pd.read_csv(path + \"tasks.csv\")\n",
    "task_map = {t:i+1 for i,t in enumerate(sorted(list(set(task.Task.values))))}\n",
    "task[\"TaskId\"] = task.Task.apply(lambda x:task_map[x])\n",
    "events = pd.read_csv(path + \"events.csv\")\n",
    "events = events[events.Kinetic==1]\n",
    "subjects = pd.read_csv(path + \"subjects.csv\")\n",
    "subjects[\"SexId\"] = (subjects.Sex==\"M\").values.astype(np.uint8)\n",
    "subjects = subjects.fillna(0)\n",
    "subjects = subjects.drop([\"Sex\"], axis=1)\n",
    "len(set(task_map.values()))"
   ]
  },
  {
   "cell_type": "code",
   "execution_count": 6,
   "id": "bb1e2596",
   "metadata": {
    "execution": {
     "iopub.execute_input": "2023-04-16T14:27:56.647151Z",
     "iopub.status.busy": "2023-04-16T14:27:56.646333Z",
     "iopub.status.idle": "2023-04-16T14:27:56.669797Z",
     "shell.execute_reply": "2023-04-16T14:27:56.668583Z"
    },
    "papermill": {
     "duration": 0.038122,
     "end_time": "2023-04-16T14:27:56.672615",
     "exception": false,
     "start_time": "2023-04-16T14:27:56.634493",
     "status": "completed"
    },
    "tags": []
   },
   "outputs": [],
   "source": [
    "metadata = [pd.read_csv(path + \"defog_metadata.csv\"),\n",
    "            pd.read_csv(path + \"tdcsfog_metadata.csv\")]\n",
    "metadata[0][\"MedicationId\"] = metadata[0].Medication.map( {'on': 1, 'off': 0} ).astype(int)\n",
    "metadata[0] = metadata[0].drop([\"Medication\"], axis=1)\n",
    "metadata[1][\"MedicationId\"] = (metadata[1].Medication.map( {'on': 1, 'off': 0} ).astype(int)\n",
    "metadata[1] = metadata[1].drop([\"Medication\"], axis=1)"
   ]
  },
  {
   "cell_type": "code",
   "execution_count": 7,
   "id": "85f84c8b",
   "metadata": {
    "execution": {
     "iopub.execute_input": "2023-04-16T14:27:56.695051Z",
     "iopub.status.busy": "2023-04-16T14:27:56.694605Z",
     "iopub.status.idle": "2023-04-16T14:27:56.699929Z",
     "shell.execute_reply": "2023-04-16T14:27:56.698710Z"
    },
    "papermill": {
     "duration": 0.019889,
     "end_time": "2023-04-16T14:27:56.702679",
     "exception": false,
     "start_time": "2023-04-16T14:27:56.682790",
     "status": "completed"
    },
    "tags": []
   },
   "outputs": [],
   "source": [
    "ext_columns = list(subjects.columns)[1:]"
   ]
  },
  {
   "cell_type": "code",
   "execution_count": 8,
   "id": "e0e6bd98",
   "metadata": {
    "execution": {
     "iopub.execute_input": "2023-04-16T14:27:56.744993Z",
     "iopub.status.busy": "2023-04-16T14:27:56.744535Z",
     "iopub.status.idle": "2023-04-16T14:27:56.755046Z",
     "shell.execute_reply": "2023-04-16T14:27:56.754084Z"
    },
    "papermill": {
     "duration": 0.024537,
     "end_time": "2023-04-16T14:27:56.757251",
     "exception": false,
     "start_time": "2023-04-16T14:27:56.732714",
     "status": "completed"
    },
    "tags": []
   },
   "outputs": [],
   "source": [
    "def read_csv_with_task(csv):\n",
    "    global task, events, defog_metadata, tdcsfog_metadata\n",
    "    fn = csv.split(\"/\")[-1]\n",
    "    idf = fn.split(\".\")[0]\n",
    "    tdf = task[task.Id==idf]\n",
    "    edf = events[events.Id==idf]\n",
    "    df = pd.read_csv(csv)\n",
    "    taskids = np.zeros(len(df), dtype=np.uint8)\n",
    "    for b,e,t in zip(tdf.Begin,tdf.End,tdf.TaskId):\n",
    "        taskids[int(b):int(e)] = t\n",
    "    for b,e,t in zip(edf.Init,edf.Completion,edf.Type):\n",
    "        if t==\"Turn\":\n",
    "            taskids[int(b):int(e)] = taskids[int(b):int(e)] + 32\n",
    "        else:\n",
    "            taskids[int(b):int(e)] = taskids[int(b):int(e)] + 64\n",
    "    df[\"TaskId\"] = taskids\n",
    "    met = metadata[0 if \"defog\" in csv else 1]\n",
    "    subId = met[met.Id==idf].values.flatten()[1]\n",
    "    sub = subjects[subjects.Subject==subId].mean().values.astype(np.uint8)\n",
    "    for i,c in enumerate(ext_columns):\n",
    "        df[c] = sub[i]\n",
    "    return df"
   ]
  },
  {
   "cell_type": "code",
   "execution_count": 9,
   "id": "722c26b0",
   "metadata": {
    "execution": {
     "iopub.execute_input": "2023-04-16T14:27:56.800064Z",
     "iopub.status.busy": "2023-04-16T14:27:56.799257Z",
     "iopub.status.idle": "2023-04-16T14:27:56.805630Z",
     "shell.execute_reply": "2023-04-16T14:27:56.804169Z"
    },
    "papermill": {
     "duration": 0.021229,
     "end_time": "2023-04-16T14:27:56.808485",
     "exception": false,
     "start_time": "2023-04-16T14:27:56.787256",
     "status": "completed"
    },
    "tags": []
   },
   "outputs": [],
   "source": [
    "target_cols = [\"StartHesitation\",\"Turn\",\"Walking\"]\n",
    "train_cols = [\"Time\",\"AccV\",\"AccML\",\"AccAP\",\"TaskId\"]"
   ]
  },
  {
   "cell_type": "code",
   "execution_count": 10,
   "id": "bc9018ac",
   "metadata": {
    "execution": {
     "iopub.execute_input": "2023-04-16T14:27:56.851666Z",
     "iopub.status.busy": "2023-04-16T14:27:56.851204Z",
     "iopub.status.idle": "2023-04-16T14:27:56.879296Z",
     "shell.execute_reply": "2023-04-16T14:27:56.877920Z"
    },
    "papermill": {
     "duration": 0.043055,
     "end_time": "2023-04-16T14:27:56.882106",
     "exception": false,
     "start_time": "2023-04-16T14:27:56.839051",
     "status": "completed"
    },
    "tags": []
   },
   "outputs": [],
   "source": [
    "def feature_engineering(val, clfs, target=None):\n",
    "    # Cluster and Dimensional mapping analysis for each data\n",
    "    if clfs[0] is None:\n",
    "        clfs[0] = MiniBatchKMeans(n_clusters=8, random_state=0, init=\"random\").fit(val[:,1:4])\n",
    "    km = clfs[0].predict(val[:,1:4])\n",
    "    km_oh = np.zeros((val.shape[0],8), dtype=np.uint8) # discrete value change to One-hot\n",
    "    for i in range(8):\n",
    "        idx = np.where(km==0)[0]\n",
    "        km_oh[idx,i] = 1\n",
    "    if clfs[1] is None:\n",
    "        clfs[1] = TruncatedSVD(n_components=2, n_iter=10, random_state=0).fit(val[:,1:4])\n",
    "    svd = clfs[1].transform(val[:,1:4])\n",
    "    # Per-user statistics\n",
    "    print(\"Per-user statistics\")\n",
    "    cp = 0\n",
    "    sp = 0\n",
    "    usrm = np.zeros((val.shape[0], 5*val.shape[1]-10), dtype=np.float16)\n",
    "    for i in range(val.shape[0]):\n",
    "        if cp > val[i,0]:\n",
    "            for t in range(val.shape[1]-2):\n",
    "                usrm[sp:i,5*t] = np.mean(val[sp:i,t+1])\n",
    "                usrm[sp:i,5*t+1] = np.std(val[sp:i,t+1])\n",
    "                usrm[sp:i,5*t+2] = np.max(val[sp:i,t+1])\n",
    "                usrm[sp:i,5*t+3] = np.min(val[sp:i,t+1])\n",
    "                usrm[sp:i,5*t+4] = (i-sp)/val.shape[0]\n",
    "            sp = i\n",
    "        cp = val[i,0]\n",
    "    for t in range(val.shape[1]-2):\n",
    "        usrm[sp:,5*t] = np.mean(val[sp:,t+1])\n",
    "        usrm[sp:,5*t+1] = np.std(val[sp:,t+1])\n",
    "        usrm[sp:,5*t+2] = np.max(val[sp:,t+1])\n",
    "        usrm[sp:,5*t+3] = np.min(val[sp:,t+1])\n",
    "        usrm[sp:,5*t+4] = (val.shape[0]-sp)/val.shape[0]\n",
    "    iskinetic = np.stack([(val[:,4]>=32).astype(np.uint8), (val[:,4]>=64).astype(np.uint8)]).transpose((1,0))\n",
    "    # Cluster and Dimensional mapping analysis for each user/task\n",
    "    print(\"Cluster and Dimensional mapping analysis for each user/task\")\n",
    "    if clfs[2] is None:\n",
    "        clfs[2] = MiniBatchKMeans(n_clusters=8, random_state=0, init=\"random\").fit(usrm)\n",
    "    kmu = clfs[2].predict(usrm)\n",
    "    kmu_oh = np.zeros((val.shape[0],8), dtype=np.uint8) # discrete value change to One-hot\n",
    "    for i in range(8):\n",
    "        idx = np.where(kmu==0)[0]\n",
    "        kmu_oh[idx,i] = 1\n",
    "    del kmu\n",
    "    gc.collect()\n",
    "    if clfs[3] is None:\n",
    "        clfs[3] = TruncatedSVD(n_components=2, n_iter=10, random_state=0).fit(usrm)\n",
    "    svdu = clfs[3].transform(usrm)\n",
    "    gc.collect()\n",
    "    # Merge waypoints\n",
    "    marged = np.hstack([val[:,1:4],km_oh,svd])\n",
    "    # Moving average and variance within the same user\n",
    "    print(\"Moving average and variance within the same user/task\")\n",
    "    wnd = np.zeros((val.shape[0],52), dtype=np.float16)\n",
    "    cp = val[0,0]\n",
    "    window = deque([marged[0,:15]] * 5)\n",
    "    for i in range(val.shape[0]):\n",
    "        if cp > val[i,0]:\n",
    "            window = deque([marged[i,:15]] * 5)\n",
    "        else:\n",
    "            window.popleft()\n",
    "            window.append(marged[i,:15])\n",
    "        cp = val[i,0]\n",
    "        wnd[i] = np.hstack([np.mean(window, axis=0),np.std(window, axis=0),np.min(window, axis=0),np.max(window, axis=0)])\n",
    "    # Analyze the entire merge data\n",
    "    print(\"Analyze the entire merge data\")\n",
    "    usrv = np.hstack([svd,svdu])\n",
    "    if clfs[4] is None:\n",
    "        clfs[4] = [LinearRegression().fit(usrv, target[:,i]) for i in range(3)]\n",
    "    reg = np.stack([clfs[4][i].predict(usrv) for i in range(3)]).transpose((1,0))\n",
    "    del usrv\n",
    "    gc.collect()\n",
    "    if clfs[5] is None:\n",
    "        clfs[5] = TruncatedSVD(n_components=2, n_iter=10, random_state=0).fit(marged)\n",
    "    svdm = clfs[5].transform(marged)\n",
    "    # Marge all\n",
    "    return np.hstack([marged,wnd,reg,svdm,usrm,kmu_oh,svdu,iskinetic])"
   ]
  },
  {
   "cell_type": "code",
   "execution_count": 11,
   "id": "d67ae213",
   "metadata": {
    "execution": {
     "iopub.execute_input": "2023-04-16T14:27:56.925931Z",
     "iopub.status.busy": "2023-04-16T14:27:56.925465Z",
     "iopub.status.idle": "2023-04-16T14:27:56.931719Z",
     "shell.execute_reply": "2023-04-16T14:27:56.930649Z"
    },
    "papermill": {
     "duration": 0.020841,
     "end_time": "2023-04-16T14:27:56.934222",
     "exception": false,
     "start_time": "2023-04-16T14:27:56.913381",
     "status": "completed"
    },
    "tags": []
   },
   "outputs": [],
   "source": [
    "#from sklearn.tree import DecisionTreeRegressor\n",
    "def get_regressor(totest=False):\n",
    "    return Ridge(max_iter=1000,random_state=0) #DecisionTreeRegressor(max_leaf_nodes=32, random_state=0)\n",
    "\n",
    "def training(val, target):\n",
    "    return get_regressor().fit(val, target)\n",
    "\n",
    "def predict(clfs, val):\n",
    "    return clfs.predict(val)"
   ]
  },
  {
   "cell_type": "code",
   "execution_count": 12,
   "id": "a2196c15",
   "metadata": {
    "execution": {
     "iopub.execute_input": "2023-04-16T14:27:56.978519Z",
     "iopub.status.busy": "2023-04-16T14:27:56.978088Z",
     "iopub.status.idle": "2023-04-16T14:28:25.605916Z",
     "shell.execute_reply": "2023-04-16T14:28:25.604539Z"
    },
    "papermill": {
     "duration": 28.642797,
     "end_time": "2023-04-16T14:28:25.608815",
     "exception": false,
     "start_time": "2023-04-16T14:27:56.966018",
     "status": "completed"
    },
    "tags": []
   },
   "outputs": [
    {
     "name": "stderr",
     "output_type": "stream",
     "text": [
      "/opt/conda/lib/python3.7/site-packages/ipykernel_launcher.py:19: FutureWarning: Dropping of nuisance columns in DataFrame reductions (with 'numeric_only=None') is deprecated; in a future version this will raise TypeError.  Select only valid columns before calling the reduction.\n"
     ]
    },
    {
     "data": {
      "text/plain": [
       "0"
      ]
     },
     "execution_count": 12,
     "metadata": {},
     "output_type": "execute_result"
    }
   ],
   "source": [
    "train_dfs = [read_csv_with_task(path + \"train/defog/\"+i)[train_cols+target_cols] for i in train_defog]\n",
    "train_val = [i[train_cols].values for i in train_dfs]\n",
    "train_tgt = [i[target_cols].values for i in train_dfs]\n",
    "del train_dfs\n",
    "gc.collect()"
   ]
  },
  {
   "cell_type": "code",
   "execution_count": 13,
   "id": "059bc386",
   "metadata": {
    "execution": {
     "iopub.execute_input": "2023-04-16T14:28:25.631931Z",
     "iopub.status.busy": "2023-04-16T14:28:25.630750Z",
     "iopub.status.idle": "2023-04-16T14:28:26.152866Z",
     "shell.execute_reply": "2023-04-16T14:28:26.151206Z"
    },
    "papermill": {
     "duration": 0.53694,
     "end_time": "2023-04-16T14:28:26.156103",
     "exception": false,
     "start_time": "2023-04-16T14:28:25.619163",
     "status": "completed"
    },
    "tags": []
   },
   "outputs": [
    {
     "data": {
      "text/plain": [
       "21"
      ]
     },
     "execution_count": 13,
     "metadata": {},
     "output_type": "execute_result"
    }
   ],
   "source": [
    "train_val = np.vstack(train_val)\n",
    "train_tgt = np.vstack(train_tgt)\n",
    "gc.collect()"
   ]
  },
  {
   "cell_type": "code",
   "execution_count": 14,
   "id": "f0a5bd49",
   "metadata": {
    "execution": {
     "iopub.execute_input": "2023-04-16T14:28:26.180818Z",
     "iopub.status.busy": "2023-04-16T14:28:26.179455Z",
     "iopub.status.idle": "2023-04-16T14:54:47.275581Z",
     "shell.execute_reply": "2023-04-16T14:54:47.273773Z"
    },
    "papermill": {
     "duration": 1581.111892,
     "end_time": "2023-04-16T14:54:47.279222",
     "exception": false,
     "start_time": "2023-04-16T14:28:26.167330",
     "status": "completed"
    },
    "tags": []
   },
   "outputs": [
    {
     "name": "stdout",
     "output_type": "stream",
     "text": [
      "Per-user statistics\n",
      "Cluster and Dimensional mapping analysis for each user/task\n"
     ]
    },
    {
     "name": "stderr",
     "output_type": "stream",
     "text": [
      "/opt/conda/lib/python3.7/site-packages/numpy/core/_methods.py:244: RuntimeWarning: overflow encountered in reduce\n",
      "  ret = umr_sum(x, axis, dtype, out, keepdims=keepdims, where=where)\n"
     ]
    },
    {
     "name": "stdout",
     "output_type": "stream",
     "text": [
      "Moving average and variance within the same user/task\n",
      "Analyze the entire merge data\n"
     ]
    }
   ],
   "source": [
    "defog_trans = [None, None, None, None, None ,None]\n",
    "train_val = feature_engineering(train_val, defog_trans, target=train_tgt)"
   ]
  },
  {
   "cell_type": "code",
   "execution_count": 15,
   "id": "7841244c",
   "metadata": {
    "execution": {
     "iopub.execute_input": "2023-04-16T14:54:47.327990Z",
     "iopub.status.busy": "2023-04-16T14:54:47.327522Z",
     "iopub.status.idle": "2023-04-16T14:56:08.169838Z",
     "shell.execute_reply": "2023-04-16T14:56:08.167712Z"
    },
    "papermill": {
     "duration": 80.861365,
     "end_time": "2023-04-16T14:56:08.175634",
     "exception": false,
     "start_time": "2023-04-16T14:54:47.314269",
     "status": "completed"
    },
    "tags": []
   },
   "outputs": [],
   "source": [
    "train_val = train_val.astype(np.float16) # reduce memory\n",
    "gc.collect()\n",
    "defog_clf = [training(train_val,train_tgt[:,i]) for i in range(len(target_cols))]"
   ]
  },
  {
   "cell_type": "code",
   "execution_count": 16,
   "id": "2d724a9c",
   "metadata": {
    "execution": {
     "iopub.execute_input": "2023-04-16T14:56:08.219767Z",
     "iopub.status.busy": "2023-04-16T14:56:08.219305Z",
     "iopub.status.idle": "2023-04-16T14:56:08.377578Z",
     "shell.execute_reply": "2023-04-16T14:56:08.376136Z"
    },
    "papermill": {
     "duration": 0.174797,
     "end_time": "2023-04-16T14:56:08.380725",
     "exception": false,
     "start_time": "2023-04-16T14:56:08.205928",
     "status": "completed"
    },
    "tags": []
   },
   "outputs": [
    {
     "data": {
      "text/plain": [
       "21"
      ]
     },
     "execution_count": 16,
     "metadata": {},
     "output_type": "execute_result"
    }
   ],
   "source": [
    "del train_val, train_tgt, train_defog\n",
    "gc.collect()"
   ]
  },
  {
   "cell_type": "code",
   "execution_count": 17,
   "id": "49a0373e",
   "metadata": {
    "execution": {
     "iopub.execute_input": "2023-04-16T14:56:08.428815Z",
     "iopub.status.busy": "2023-04-16T14:56:08.428012Z",
     "iopub.status.idle": "2023-04-16T14:56:32.519418Z",
     "shell.execute_reply": "2023-04-16T14:56:32.517877Z"
    },
    "papermill": {
     "duration": 24.109524,
     "end_time": "2023-04-16T14:56:32.522982",
     "exception": false,
     "start_time": "2023-04-16T14:56:08.413458",
     "status": "completed"
    },
    "tags": []
   },
   "outputs": [
    {
     "name": "stderr",
     "output_type": "stream",
     "text": [
      "/opt/conda/lib/python3.7/site-packages/ipykernel_launcher.py:19: FutureWarning: Dropping of nuisance columns in DataFrame reductions (with 'numeric_only=None') is deprecated; in a future version this will raise TypeError.  Select only valid columns before calling the reduction.\n"
     ]
    },
    {
     "data": {
      "text/plain": [
       "0"
      ]
     },
     "execution_count": 17,
     "metadata": {},
     "output_type": "execute_result"
    }
   ],
   "source": [
    "train_dfs = [read_csv_with_task(path + \"train/tdcsfog/\"+i)[train_cols+target_cols] for i in train_tdcsfog]\n",
    "train_val = [i[train_cols].values for i in train_dfs]\n",
    "train_tgt = [i[target_cols].values for i in train_dfs]\n",
    "del train_dfs\n",
    "gc.collect()"
   ]
  },
  {
   "cell_type": "code",
   "execution_count": 18,
   "id": "b016b6c2",
   "metadata": {
    "execution": {
     "iopub.execute_input": "2023-04-16T14:56:32.548682Z",
     "iopub.status.busy": "2023-04-16T14:56:32.548161Z",
     "iopub.status.idle": "2023-04-16T14:56:32.864284Z",
     "shell.execute_reply": "2023-04-16T14:56:32.863001Z"
    },
    "papermill": {
     "duration": 0.332178,
     "end_time": "2023-04-16T14:56:32.867186",
     "exception": false,
     "start_time": "2023-04-16T14:56:32.535008",
     "status": "completed"
    },
    "tags": []
   },
   "outputs": [
    {
     "data": {
      "text/plain": [
       "21"
      ]
     },
     "execution_count": 18,
     "metadata": {},
     "output_type": "execute_result"
    }
   ],
   "source": [
    "train_val = np.vstack(train_val)\n",
    "train_tgt = np.vstack(train_tgt)\n",
    "gc.collect()"
   ]
  },
  {
   "cell_type": "code",
   "execution_count": 19,
   "id": "3a4536b4",
   "metadata": {
    "execution": {
     "iopub.execute_input": "2023-04-16T14:56:32.892494Z",
     "iopub.status.busy": "2023-04-16T14:56:32.892018Z",
     "iopub.status.idle": "2023-04-16T15:09:46.426225Z",
     "shell.execute_reply": "2023-04-16T15:09:46.424277Z"
    },
    "papermill": {
     "duration": 793.551272,
     "end_time": "2023-04-16T15:09:46.430161",
     "exception": false,
     "start_time": "2023-04-16T14:56:32.878889",
     "status": "completed"
    },
    "tags": []
   },
   "outputs": [
    {
     "name": "stdout",
     "output_type": "stream",
     "text": [
      "Per-user statistics\n",
      "Cluster and Dimensional mapping analysis for each user/task\n"
     ]
    },
    {
     "name": "stderr",
     "output_type": "stream",
     "text": [
      "/opt/conda/lib/python3.7/site-packages/numpy/core/_methods.py:212: RuntimeWarning: overflow encountered in reduce\n",
      "  arrmean = umr_sum(arr, axis, dtype, keepdims=True, where=where)\n",
      "/opt/conda/lib/python3.7/site-packages/numpy/core/_methods.py:244: RuntimeWarning: overflow encountered in reduce\n",
      "  ret = umr_sum(x, axis, dtype, out, keepdims=keepdims, where=where)\n"
     ]
    },
    {
     "name": "stdout",
     "output_type": "stream",
     "text": [
      "Moving average and variance within the same user/task\n",
      "Analyze the entire merge data\n"
     ]
    }
   ],
   "source": [
    "tdcsfog_trans = [None, None, None, None, None, None]\n",
    "train_val = feature_engineering(train_val, tdcsfog_trans, target=train_tgt)"
   ]
  },
  {
   "cell_type": "code",
   "execution_count": 20,
   "id": "6e9b4501",
   "metadata": {
    "execution": {
     "iopub.execute_input": "2023-04-16T15:09:46.484950Z",
     "iopub.status.busy": "2023-04-16T15:09:46.484211Z",
     "iopub.status.idle": "2023-04-16T15:10:27.639863Z",
     "shell.execute_reply": "2023-04-16T15:10:27.637907Z"
    },
    "papermill": {
     "duration": 41.177424,
     "end_time": "2023-04-16T15:10:27.645230",
     "exception": false,
     "start_time": "2023-04-16T15:09:46.467806",
     "status": "completed"
    },
    "tags": []
   },
   "outputs": [],
   "source": [
    "train_val = train_val.astype(np.float16) # reduce memory\n",
    "gc.collect()\n",
    "tdcsfog_clf = [training(train_val,train_tgt[:,i]) for i in range(len(target_cols))]"
   ]
  },
  {
   "cell_type": "code",
   "execution_count": 21,
   "id": "098a7e1c",
   "metadata": {
    "execution": {
     "iopub.execute_input": "2023-04-16T15:10:27.712451Z",
     "iopub.status.busy": "2023-04-16T15:10:27.711661Z",
     "iopub.status.idle": "2023-04-16T15:10:27.849753Z",
     "shell.execute_reply": "2023-04-16T15:10:27.848299Z"
    },
    "papermill": {
     "duration": 0.17457,
     "end_time": "2023-04-16T15:10:27.852532",
     "exception": false,
     "start_time": "2023-04-16T15:10:27.677962",
     "status": "completed"
    },
    "tags": []
   },
   "outputs": [
    {
     "data": {
      "text/plain": [
       "21"
      ]
     },
     "execution_count": 21,
     "metadata": {},
     "output_type": "execute_result"
    }
   ],
   "source": [
    "del train_val, train_tgt, train_tdcsfog\n",
    "gc.collect()"
   ]
  },
  {
   "cell_type": "code",
   "execution_count": 22,
   "id": "ed82e883",
   "metadata": {
    "execution": {
     "iopub.execute_input": "2023-04-16T15:10:27.903327Z",
     "iopub.status.busy": "2023-04-16T15:10:27.902895Z",
     "iopub.status.idle": "2023-04-16T15:10:28.540418Z",
     "shell.execute_reply": "2023-04-16T15:10:28.539069Z"
    },
    "papermill": {
     "duration": 0.654468,
     "end_time": "2023-04-16T15:10:28.543497",
     "exception": false,
     "start_time": "2023-04-16T15:10:27.889029",
     "status": "completed"
    },
    "tags": []
   },
   "outputs": [
    {
     "name": "stderr",
     "output_type": "stream",
     "text": [
      "/opt/conda/lib/python3.7/site-packages/ipykernel_launcher.py:19: FutureWarning: Dropping of nuisance columns in DataFrame reductions (with 'numeric_only=None') is deprecated; in a future version this will raise TypeError.  Select only valid columns before calling the reduction.\n"
     ]
    },
    {
     "data": {
      "text/plain": [
       "21"
      ]
     },
     "execution_count": 22,
     "metadata": {},
     "output_type": "execute_result"
    }
   ],
   "source": [
    "test_dfs = [read_csv_with_task(\"/kaggle/input/tlvmc-parkinsons-freezing-gait-prediction/test/defog/\"+i)[train_cols] for i in test_defog]\n",
    "test_val = [i.values for i in test_dfs]\n",
    "gc.collect()"
   ]
  },
  {
   "cell_type": "code",
   "execution_count": 23,
   "id": "777a16a0",
   "metadata": {
    "execution": {
     "iopub.execute_input": "2023-04-16T15:10:28.571096Z",
     "iopub.status.busy": "2023-04-16T15:10:28.570369Z",
     "iopub.status.idle": "2023-04-16T15:10:56.571393Z",
     "shell.execute_reply": "2023-04-16T15:10:56.570018Z"
    },
    "papermill": {
     "duration": 28.018705,
     "end_time": "2023-04-16T15:10:56.574526",
     "exception": false,
     "start_time": "2023-04-16T15:10:28.555821",
     "status": "completed"
    },
    "tags": []
   },
   "outputs": [
    {
     "name": "stdout",
     "output_type": "stream",
     "text": [
      "Per-user statistics\n",
      "Cluster and Dimensional mapping analysis for each user/task\n",
      "Moving average and variance within the same user/task\n",
      "Analyze the entire merge data\n"
     ]
    }
   ],
   "source": [
    "test_val = np.vstack(test_val)\n",
    "test_val = feature_engineering(test_val, defog_trans)"
   ]
  },
  {
   "cell_type": "code",
   "execution_count": 24,
   "id": "bc018443",
   "metadata": {
    "execution": {
     "iopub.execute_input": "2023-04-16T15:10:56.627713Z",
     "iopub.status.busy": "2023-04-16T15:10:56.626644Z",
     "iopub.status.idle": "2023-04-16T15:10:57.805734Z",
     "shell.execute_reply": "2023-04-16T15:10:57.803432Z"
    },
    "papermill": {
     "duration": 1.199493,
     "end_time": "2023-04-16T15:10:57.811791",
     "exception": false,
     "start_time": "2023-04-16T15:10:56.612298",
     "status": "completed"
    },
    "tags": []
   },
   "outputs": [],
   "source": [
    "test_val = test_val.astype(np.float16) # reduce memory\n",
    "gc.collect()\n",
    "test_defog_preds = [np.clip(predict(c, test_val), 0, 1) for i,c in enumerate(defog_clf)]"
   ]
  },
  {
   "cell_type": "code",
   "execution_count": 25,
   "id": "46c65f16",
   "metadata": {
    "execution": {
     "iopub.execute_input": "2023-04-16T15:10:57.881750Z",
     "iopub.status.busy": "2023-04-16T15:10:57.880983Z",
     "iopub.status.idle": "2023-04-16T15:10:58.073154Z",
     "shell.execute_reply": "2023-04-16T15:10:58.071895Z"
    },
    "papermill": {
     "duration": 0.230719,
     "end_time": "2023-04-16T15:10:58.076076",
     "exception": false,
     "start_time": "2023-04-16T15:10:57.845357",
     "status": "completed"
    },
    "tags": []
   },
   "outputs": [],
   "source": [
    "defog_ids = []\n",
    "for f,d in zip(test_defog,test_dfs):\n",
    "    fid = f.split(\".\")[0]\n",
    "    for t in d.Time.values:\n",
    "        sid = f\"{fid}_{t}\"\n",
    "        defog_ids.append(sid)"
   ]
  },
  {
   "cell_type": "code",
   "execution_count": 26,
   "id": "e7e37542",
   "metadata": {
    "execution": {
     "iopub.execute_input": "2023-04-16T15:10:58.103713Z",
     "iopub.status.busy": "2023-04-16T15:10:58.103201Z",
     "iopub.status.idle": "2023-04-16T15:10:58.238191Z",
     "shell.execute_reply": "2023-04-16T15:10:58.236935Z"
    },
    "papermill": {
     "duration": 0.152043,
     "end_time": "2023-04-16T15:10:58.241001",
     "exception": false,
     "start_time": "2023-04-16T15:10:58.088958",
     "status": "completed"
    },
    "tags": []
   },
   "outputs": [
    {
     "data": {
      "text/plain": [
       "42"
      ]
     },
     "execution_count": 26,
     "metadata": {},
     "output_type": "execute_result"
    }
   ],
   "source": [
    "del test_defog, test_dfs, test_val\n",
    "gc.collect()"
   ]
  },
  {
   "cell_type": "code",
   "execution_count": 27,
   "id": "86ad92fe",
   "metadata": {
    "execution": {
     "iopub.execute_input": "2023-04-16T15:10:58.294432Z",
     "iopub.status.busy": "2023-04-16T15:10:58.294023Z",
     "iopub.status.idle": "2023-04-16T15:10:58.452924Z",
     "shell.execute_reply": "2023-04-16T15:10:58.451474Z"
    },
    "papermill": {
     "duration": 0.176058,
     "end_time": "2023-04-16T15:10:58.455502",
     "exception": false,
     "start_time": "2023-04-16T15:10:58.279444",
     "status": "completed"
    },
    "tags": []
   },
   "outputs": [
    {
     "name": "stderr",
     "output_type": "stream",
     "text": [
      "/opt/conda/lib/python3.7/site-packages/ipykernel_launcher.py:19: FutureWarning: Dropping of nuisance columns in DataFrame reductions (with 'numeric_only=None') is deprecated; in a future version this will raise TypeError.  Select only valid columns before calling the reduction.\n"
     ]
    },
    {
     "data": {
      "text/plain": [
       "21"
      ]
     },
     "execution_count": 27,
     "metadata": {},
     "output_type": "execute_result"
    }
   ],
   "source": [
    "test_dfs = [read_csv_with_task(path + \"test/tdcsfog/\"+i)[train_cols] for i in test_tdcsfog]\n",
    "test_val = [i.values for i in test_dfs]\n",
    "gc.collect()"
   ]
  },
  {
   "cell_type": "code",
   "execution_count": 28,
   "id": "0a4ade7f",
   "metadata": {
    "execution": {
     "iopub.execute_input": "2023-04-16T15:10:58.483054Z",
     "iopub.status.busy": "2023-04-16T15:10:58.482652Z",
     "iopub.status.idle": "2023-04-16T15:10:59.380123Z",
     "shell.execute_reply": "2023-04-16T15:10:59.378231Z"
    },
    "papermill": {
     "duration": 0.914687,
     "end_time": "2023-04-16T15:10:59.383033",
     "exception": false,
     "start_time": "2023-04-16T15:10:58.468346",
     "status": "completed"
    },
    "tags": []
   },
   "outputs": [
    {
     "name": "stdout",
     "output_type": "stream",
     "text": [
      "Per-user statistics\n",
      "Cluster and Dimensional mapping analysis for each user/task\n",
      "Moving average and variance within the same user/task\n",
      "Analyze the entire merge data\n"
     ]
    }
   ],
   "source": [
    "test_val = np.vstack(test_val)\n",
    "test_val = feature_engineering(test_val, tdcsfog_trans)"
   ]
  },
  {
   "cell_type": "code",
   "execution_count": 29,
   "id": "42dc7bf8",
   "metadata": {
    "execution": {
     "iopub.execute_input": "2023-04-16T15:10:59.439693Z",
     "iopub.status.busy": "2023-04-16T15:10:59.438355Z",
     "iopub.status.idle": "2023-04-16T15:10:59.593868Z",
     "shell.execute_reply": "2023-04-16T15:10:59.592064Z"
    },
    "papermill": {
     "duration": 0.175991,
     "end_time": "2023-04-16T15:10:59.599399",
     "exception": false,
     "start_time": "2023-04-16T15:10:59.423408",
     "status": "completed"
    },
    "tags": []
   },
   "outputs": [],
   "source": [
    "test_val = test_val.astype(np.float16) # reduce memory\n",
    "gc.collect()\n",
    "test_tdcsfog_preds = [np.clip(predict(c, test_val), 0, 1) for i,c in enumerate(tdcsfog_clf)]"
   ]
  },
  {
   "cell_type": "code",
   "execution_count": 30,
   "id": "66c48d2a",
   "metadata": {
    "execution": {
     "iopub.execute_input": "2023-04-16T15:10:59.672026Z",
     "iopub.status.busy": "2023-04-16T15:10:59.671251Z",
     "iopub.status.idle": "2023-04-16T15:10:59.691517Z",
     "shell.execute_reply": "2023-04-16T15:10:59.689651Z"
    },
    "papermill": {
     "duration": 0.062099,
     "end_time": "2023-04-16T15:10:59.696707",
     "exception": false,
     "start_time": "2023-04-16T15:10:59.634608",
     "status": "completed"
    },
    "tags": []
   },
   "outputs": [],
   "source": [
    "tdcsfog_ids = []\n",
    "for f,d in zip(test_tdcsfog,test_dfs):\n",
    "    fid = f.split(\".\")[0]\n",
    "    for t in d.Time.values:\n",
    "        sid = f\"{fid}_{t}\"\n",
    "        tdcsfog_ids.append(sid)"
   ]
  },
  {
   "cell_type": "code",
   "execution_count": 31,
   "id": "af790b76",
   "metadata": {
    "execution": {
     "iopub.execute_input": "2023-04-16T15:10:59.734726Z",
     "iopub.status.busy": "2023-04-16T15:10:59.734279Z",
     "iopub.status.idle": "2023-04-16T15:10:59.869872Z",
     "shell.execute_reply": "2023-04-16T15:10:59.868577Z"
    },
    "papermill": {
     "duration": 0.153414,
     "end_time": "2023-04-16T15:10:59.872963",
     "exception": false,
     "start_time": "2023-04-16T15:10:59.719549",
     "status": "completed"
    },
    "tags": []
   },
   "outputs": [
    {
     "data": {
      "text/plain": [
       "42"
      ]
     },
     "execution_count": 31,
     "metadata": {},
     "output_type": "execute_result"
    }
   ],
   "source": [
    "del test_tdcsfog, test_dfs, test_val\n",
    "gc.collect()"
   ]
  },
  {
   "cell_type": "code",
   "execution_count": 32,
   "id": "7852f18a",
   "metadata": {
    "execution": {
     "iopub.execute_input": "2023-04-16T15:10:59.929270Z",
     "iopub.status.busy": "2023-04-16T15:10:59.928317Z",
     "iopub.status.idle": "2023-04-16T15:11:00.010232Z",
     "shell.execute_reply": "2023-04-16T15:11:00.008867Z"
    },
    "papermill": {
     "duration": 0.099931,
     "end_time": "2023-04-16T15:11:00.013058",
     "exception": false,
     "start_time": "2023-04-16T15:10:59.913127",
     "status": "completed"
    },
    "tags": []
   },
   "outputs": [],
   "source": [
    "all_ids = defog_ids + tdcsfog_ids\n",
    "all_starts = list(test_defog_preds[0]) + list(test_tdcsfog_preds[0])\n",
    "all_turns = list(test_defog_preds[1]) + list(test_tdcsfog_preds[1])\n",
    "all_walkings = list(test_defog_preds[2]) + list(test_tdcsfog_preds[2])"
   ]
  },
  {
   "cell_type": "code",
   "execution_count": 33,
   "id": "9e86d3b8",
   "metadata": {
    "execution": {
     "iopub.execute_input": "2023-04-16T15:11:00.042780Z",
     "iopub.status.busy": "2023-04-16T15:11:00.042348Z",
     "iopub.status.idle": "2023-04-16T15:11:00.279554Z",
     "shell.execute_reply": "2023-04-16T15:11:00.278236Z"
    },
    "papermill": {
     "duration": 0.255647,
     "end_time": "2023-04-16T15:11:00.282286",
     "exception": false,
     "start_time": "2023-04-16T15:11:00.026639",
     "status": "completed"
    },
    "tags": []
   },
   "outputs": [
    {
     "data": {
      "text/html": [
       "<div>\n",
       "<style scoped>\n",
       "    .dataframe tbody tr th:only-of-type {\n",
       "        vertical-align: middle;\n",
       "    }\n",
       "\n",
       "    .dataframe tbody tr th {\n",
       "        vertical-align: top;\n",
       "    }\n",
       "\n",
       "    .dataframe thead th {\n",
       "        text-align: right;\n",
       "    }\n",
       "</style>\n",
       "<table border=\"1\" class=\"dataframe\">\n",
       "  <thead>\n",
       "    <tr style=\"text-align: right;\">\n",
       "      <th></th>\n",
       "      <th>Id</th>\n",
       "      <th>StartHesitation</th>\n",
       "      <th>Turn</th>\n",
       "      <th>Walking</th>\n",
       "    </tr>\n",
       "  </thead>\n",
       "  <tbody>\n",
       "    <tr>\n",
       "      <th>0</th>\n",
       "      <td>02ab235146_0</td>\n",
       "      <td>0.0</td>\n",
       "      <td>0.0</td>\n",
       "      <td>1.0</td>\n",
       "    </tr>\n",
       "    <tr>\n",
       "      <th>1</th>\n",
       "      <td>02ab235146_1</td>\n",
       "      <td>0.0</td>\n",
       "      <td>0.0</td>\n",
       "      <td>1.0</td>\n",
       "    </tr>\n",
       "    <tr>\n",
       "      <th>2</th>\n",
       "      <td>02ab235146_2</td>\n",
       "      <td>0.0</td>\n",
       "      <td>0.0</td>\n",
       "      <td>1.0</td>\n",
       "    </tr>\n",
       "    <tr>\n",
       "      <th>3</th>\n",
       "      <td>02ab235146_3</td>\n",
       "      <td>0.0</td>\n",
       "      <td>0.0</td>\n",
       "      <td>1.0</td>\n",
       "    </tr>\n",
       "    <tr>\n",
       "      <th>4</th>\n",
       "      <td>02ab235146_4</td>\n",
       "      <td>0.0</td>\n",
       "      <td>0.0</td>\n",
       "      <td>1.0</td>\n",
       "    </tr>\n",
       "    <tr>\n",
       "      <th>...</th>\n",
       "      <td>...</td>\n",
       "      <td>...</td>\n",
       "      <td>...</td>\n",
       "      <td>...</td>\n",
       "    </tr>\n",
       "    <tr>\n",
       "      <th>286365</th>\n",
       "      <td>003f117e14_4677</td>\n",
       "      <td>1.0</td>\n",
       "      <td>1.0</td>\n",
       "      <td>1.0</td>\n",
       "    </tr>\n",
       "    <tr>\n",
       "      <th>286366</th>\n",
       "      <td>003f117e14_4678</td>\n",
       "      <td>1.0</td>\n",
       "      <td>1.0</td>\n",
       "      <td>1.0</td>\n",
       "    </tr>\n",
       "    <tr>\n",
       "      <th>286367</th>\n",
       "      <td>003f117e14_4679</td>\n",
       "      <td>1.0</td>\n",
       "      <td>1.0</td>\n",
       "      <td>1.0</td>\n",
       "    </tr>\n",
       "    <tr>\n",
       "      <th>286368</th>\n",
       "      <td>003f117e14_4680</td>\n",
       "      <td>1.0</td>\n",
       "      <td>1.0</td>\n",
       "      <td>1.0</td>\n",
       "    </tr>\n",
       "    <tr>\n",
       "      <th>286369</th>\n",
       "      <td>003f117e14_4681</td>\n",
       "      <td>1.0</td>\n",
       "      <td>1.0</td>\n",
       "      <td>1.0</td>\n",
       "    </tr>\n",
       "  </tbody>\n",
       "</table>\n",
       "<p>286370 rows × 4 columns</p>\n",
       "</div>"
      ],
      "text/plain": [
       "                     Id  StartHesitation  Turn  Walking\n",
       "0          02ab235146_0              0.0   0.0      1.0\n",
       "1          02ab235146_1              0.0   0.0      1.0\n",
       "2          02ab235146_2              0.0   0.0      1.0\n",
       "3          02ab235146_3              0.0   0.0      1.0\n",
       "4          02ab235146_4              0.0   0.0      1.0\n",
       "...                 ...              ...   ...      ...\n",
       "286365  003f117e14_4677              1.0   1.0      1.0\n",
       "286366  003f117e14_4678              1.0   1.0      1.0\n",
       "286367  003f117e14_4679              1.0   1.0      1.0\n",
       "286368  003f117e14_4680              1.0   1.0      1.0\n",
       "286369  003f117e14_4681              1.0   1.0      1.0\n",
       "\n",
       "[286370 rows x 4 columns]"
      ]
     },
     "execution_count": 33,
     "metadata": {},
     "output_type": "execute_result"
    }
   ],
   "source": [
    "df = pd.DataFrame({\"Id\":all_ids,\"StartHesitation\":all_starts,\"Turn\":all_turns,\"Walking\":all_walkings})\n",
    "df"
   ]
  },
  {
   "cell_type": "code",
   "execution_count": 34,
   "id": "5bc233f8",
   "metadata": {
    "execution": {
     "iopub.execute_input": "2023-04-16T15:11:00.401408Z",
     "iopub.status.busy": "2023-04-16T15:11:00.400992Z",
     "iopub.status.idle": "2023-04-16T15:11:01.070391Z",
     "shell.execute_reply": "2023-04-16T15:11:01.069153Z"
    },
    "papermill": {
     "duration": 0.688122,
     "end_time": "2023-04-16T15:11:01.073330",
     "exception": false,
     "start_time": "2023-04-16T15:11:00.385208",
     "status": "completed"
    },
    "tags": []
   },
   "outputs": [],
   "source": [
    "df.to_csv(\"submission.csv\", index=False)"
   ]
  },
  {
   "cell_type": "code",
   "execution_count": null,
   "id": "a7f95000",
   "metadata": {
    "papermill": {
     "duration": 0.013959,
     "end_time": "2023-04-16T15:11:01.101325",
     "exception": false,
     "start_time": "2023-04-16T15:11:01.087366",
     "status": "completed"
    },
    "tags": []
   },
   "outputs": [],
   "source": []
  }
 ],
 "metadata": {
  "kernelspec": {
   "display_name": "Python 3 (ipykernel)",
   "language": "python",
   "name": "python3"
  },
  "language_info": {
   "codemirror_mode": {
    "name": "ipython",
    "version": 3
   },
   "file_extension": ".py",
   "mimetype": "text/x-python",
   "name": "python",
   "nbconvert_exporter": "python",
   "pygments_lexer": "ipython3",
   "version": "3.11.1"
  },
  "papermill": {
   "default_parameters": {},
   "duration": 2599.655216,
   "end_time": "2023-04-16T15:11:02.148413",
   "environment_variables": {},
   "exception": null,
   "input_path": "__notebook__.ipynb",
   "output_path": "__notebook__.ipynb",
   "parameters": {},
   "start_time": "2023-04-16T14:27:42.493197",
   "version": "2.4.0"
  }
 },
 "nbformat": 4,
 "nbformat_minor": 5
}
